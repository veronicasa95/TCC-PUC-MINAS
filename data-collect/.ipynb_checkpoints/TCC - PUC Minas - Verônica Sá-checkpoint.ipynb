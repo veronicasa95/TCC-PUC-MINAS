{
 "cells": [
  {
   "cell_type": "markdown",
   "metadata": {},
   "source": [
    "# Puc Minas\n",
    "\n",
    "## Pós Graduação em Ciência de Dados e Big Data (2020-2022)\n",
    "\n",
    "## Trabalho de Conclusão de Curso \n",
    "\n",
    "### Aluna: Verônica Sá Vieira da Silva\n",
    "\n"
   ]
  },
  {
   "cell_type": "markdown",
   "metadata": {},
   "source": [
    "O presente Trabalho de Conclusão de Curso em Ciências de dados e Big data estuda as Rodovias do Brasil \n",
    "utilizando o dataset do site <a href=\"https://dados.antt.gov.br/dataset?res_format=CSV&license_id=cc-by&res_format=JSON&groups=rodovias&page=2\">ANTT</a>.\n"
   ]
  },
  {
   "cell_type": "markdown",
   "metadata": {},
   "source": [
    "### Importação das bibliotecas utilizadas:\n"
   ]
  },
  {
   "cell_type": "code",
   "execution_count": 162,
   "metadata": {},
   "outputs": [],
   "source": [
    "# -*- coding: utf-8 -*-\n",
    "### Bibliotecas\n",
    "import os \n",
    "import pandas as pd\n",
    "import glob\n",
    "import numpy as np\n",
    "import matplotlib.pyplot as plt\n",
    "import datetime"
   ]
  },
  {
   "cell_type": "markdown",
   "metadata": {},
   "source": [
    "### Funcões:"
   ]
  },
  {
   "cell_type": "code",
   "execution_count": 182,
   "metadata": {},
   "outputs": [],
   "source": [
    "def grafico_dispersao(x,y):\n",
    "# Gráfico de dispersao\n",
    "# Identifica a correlação \n",
    "    plt.scatter(x,y)\n",
    "    plt.show"
   ]
  },
  {
   "cell_type": "code",
   "execution_count": 186,
   "metadata": {},
   "outputs": [],
   "source": [
    "def grafico_barras(x,y,marcador):\n",
    "\n",
    "# Criando um gráfico\n",
    "    plt.bar(x, y, label = marcador, color = 'r')\n",
    "#plt.bar(x2, y2, label = 'Barras2', color = 'y')\n",
    "    plt.legend()\n",
    "    plt.show()"
   ]
  },
  {
   "cell_type": "markdown",
   "metadata": {},
   "source": [
    "### Coleta de Dados:"
   ]
  },
  {
   "cell_type": "markdown",
   "metadata": {},
   "source": [
    "Dando início à coleta de dados, as informações foram extraídas dos arquivos disponibilizados pela ANTT referente à acidentes, rodovias, postos das rodovias federais, informações dos terrenos e dos radares. \n",
    "Cada dataset foi separado por entidades para melhor manuseio das informações das rodovias."
   ]
  },
  {
   "cell_type": "code",
   "execution_count": 147,
   "metadata": {},
   "outputs": [],
   "source": [
    "DIRETORIO = os.path.join(os.getcwd(),'..','files')\n",
    "\n",
    "\n",
    "### Acidentes\n",
    "# Foi necessário agrupar 24 arquivos CSV pois a ANTT dividiu todos os acidentes por concessionária.\n",
    "all_files = glob.glob(os.path.join(DIRETORIO,'acidentes_antt') + \"/*.csv\")\n",
    "\n",
    "li = []\n",
    "#columns_types = {'data': str, 'n_da_ocorrencia': str, 'tipo_de_ocorrencia': str, 'trecho': str, 'tipo_de_acidente': str}\n",
    "\n",
    "for filename in all_files:\n",
    "    \n",
    "    df = pd.read_csv(filename, index_col=None, header=0, delimiter = \";\", encoding=\"iso8859-1\", low_memory = False)\n",
    "    li.append(df)\n",
    "\n",
    "df_acidentes = pd.concat(li, axis=0, ignore_index=True)\n",
    "\n",
    "### Radar\n",
    "df_radar = pd.read_csv(os.path.join(DIRETORIO,'radar','dados_dos_radares.csv'), encoding=\"iso8859-1\",delimiter = \";\", low_memory = False)\n",
    "\n",
    "### Terreno\n",
    "df_terreno = pd.read_csv(os.path.join(DIRETORIO,'terreno','dados_perfil_do_terreno.csv'), encoding=\"iso8859-1\",delimiter = \";\", low_memory = False)\n",
    "\n",
    "### Postos PRF\n",
    "df_postos_prf = pd.read_csv(os.path.join(DIRETORIO,'posto_prf','dados_dos_postos_prfs.csv'), encoding=\"iso8859-1\",delimiter = \";\", low_memory = False)\n",
    "\n"
   ]
  },
  {
   "cell_type": "markdown",
   "metadata": {},
   "source": [
    "### Tratamento de Dados:"
   ]
  },
  {
   "cell_type": "markdown",
   "metadata": {},
   "source": [
    "1. Tratando Inconsistências:\n",
    "\n",
    "Pela natureza do dataset, muitos dados são manuais e precisam se tratados e agrupados. Foram criados novas colunas no dataset de Acidentes e no dataset de Terrenos (UF e Rodovia) e foram feitos replaces na coluna de TIPO_DE_OCORRENCIA dos acidentes que descreve o tipo de acidente ocorrido. Muitas descrições não estão padronizadas, essa sessão tem o intuito de remover as inconsistências causadas por dados manuais."
   ]
  },
  {
   "cell_type": "code",
   "execution_count": 148,
   "metadata": {},
   "outputs": [],
   "source": [
    "## Criar as colunas Rodovia e UF no dataset de Acidentes.\n",
    "df_acidentes['rodovia'] = df_acidentes.trecho\n",
    "df_acidentes[['rodovia','uf']] = df_acidentes['rodovia'].str.split('/',expand=True)\n",
    "\n",
    "## Criar as colunas Rodovia e UF no dataset de Terrenos.\n",
    "df_terreno['rodovia'] = df_terreno.rodovia_uf\n",
    "df_terreno[['rodovia','uf']] = df_terreno['rodovia'].str.split('/',expand=True)\n",
    "\n",
    "## Criar campo de ano e mês no dataset de Acidentes\n",
    "df_acidentes['data']= pd.to_datetime(df['data']) \n",
    "df_acidentes['ano'] = df_acidentes['data'].dt.year \n",
    "df_acidentes['mes'] = df_acidentes['data'].dt.month \n",
    "\n",
    "### Replace:\n",
    "# Rodovias:\n",
    "df_acidentes['rodovia'].replace('Retão', 'BR-116',inplace=True)\n",
    "df_acidentes['rodovia'].replace('Contorno', 'BR-101',inplace=True)\n",
    "df_acidentes['rodovia'].replace('CONTORNO', 'BR-101',inplace=True)\n",
    "df_terreno['rodovia'].replace('Contorno','BR-101',inplace=True)\n",
    "df_terreno['rodovia'].replace('Contorno de Iconha','BR-101',inplace=True)\n",
    "df_terreno['rodovia'].replace('Contorno de Uberlândia','BR-365',inplace=True)\n",
    "df_terreno['rodovia'].replace('CONTORNO NORTE  - FS - 324','BR-324',inplace=True)\n",
    "\n",
    "# UF\n",
    "df_acidentes['uf'].replace('BA - ContSuFS','BA',inplace=True)\n",
    "df_acidentes['uf'].replace('BA - Cont VC','BA',inplace=True)\n",
    "df_acidentes['uf'].replace('ES (Contorno de Vitória)','ES',inplace=True)\n",
    "df_acidentes['uf'].replace('ES (Contorno de Iconha)','ES',inplace=True)\n",
    "df_acidentes['uf'].replace('ES (Contorno Iconha)','ES',inplace=True)\n",
    "\n",
    "# Tipo de Ocorrencia:\n",
    "df_acidentes['tipo_de_ocorrencia'].replace('sem vítima', 'Acidente sem vitima',inplace=True)\n",
    "df_acidentes['tipo_de_ocorrencia'].replace('Acidente sem vítima', 'Acidente sem vitima',inplace=True)\n",
    "df_acidentes['tipo_de_ocorrencia'].replace('ASV - Acidente SEM Vítima', 'Acidente sem vitima',inplace=True)\n",
    "df_acidentes['tipo_de_ocorrencia'].replace('ac03 - Acidente sem Vitimas', 'Acidente sem vitima',inplace=True)\n",
    "df_acidentes['tipo_de_ocorrencia'].replace('Sem vítima', 'Acidente sem vitima',inplace=True)\n",
    "df_acidentes['tipo_de_ocorrencia'].replace('Acidente sem Vítimas', 'Acidente sem vitima',inplace=True)\n",
    "df_acidentes['tipo_de_ocorrencia'].replace('Acidente sem Vítima', 'Acidente sem vitima',inplace=True)\n",
    "df_acidentes['tipo_de_ocorrencia'].replace('Acidente sem VITIMA', 'Acidente sem vitima',inplace=True)\n",
    "df_acidentes['tipo_de_ocorrencia'].replace('AC3 - Acidente sem VITIMA', 'Acidente sem vitima',inplace=True)\n",
    "df_acidentes['tipo_de_ocorrencia'].replace('Acidente sem vítima - TRECHO CONTORNO', 'Acidente sem vitima',inplace=True)\n",
    "df_acidentes['tipo_de_ocorrencia'].replace('Acidente sem Vítima - TRECHO CONTORNO', 'Acidente sem vitima',inplace=True)\n",
    "df_acidentes['tipo_de_ocorrencia'].replace('Acidente sem Vítima', 'Acidente sem vitima',inplace=True)\n",
    "df_acidentes['tipo_de_ocorrencia'].replace('AC03 - ACIDENTE SEM VÍTIMA', 'Acidente sem vitima',inplace=True)\n",
    "df_acidentes['tipo_de_ocorrencia'].replace('AC03 - Acidente sem VITIMA', 'Acidente sem vitima',inplace=True)\n",
    "\n",
    "\n",
    "df_acidentes['tipo_de_ocorrencia'].replace('com vítima', 'Acidente com vitima',inplace=True)\n",
    "df_acidentes['tipo_de_ocorrencia'].replace('Acidente com vítima', 'Acidente com vitima',inplace=True)\n",
    "df_acidentes['tipo_de_ocorrencia'].replace('2 - Acidente com VITIMA', 'Acidente com vitima',inplace=True)\n",
    "df_acidentes['tipo_de_ocorrencia'].replace('AV - Acidente com VITIMA', 'Acidente com vitima',inplace=True)\n",
    "df_acidentes['tipo_de_ocorrencia'].replace('ac02 - Acidente com VITIMA', 'Acidente com vitima',inplace=True)\n",
    "df_acidentes['tipo_de_ocorrencia'].replace('Com vítima', 'Acidente com vitima',inplace=True)\n",
    "df_acidentes['tipo_de_ocorrencia'].replace('Acidente COM VITIMA', 'Acidente com vitima',inplace=True)\n",
    "df_acidentes['tipo_de_ocorrencia'].replace('Acidente com Vítimas', 'Acidente com vitima',inplace=True)\n",
    "df_acidentes['tipo_de_ocorrencia'].replace('2- Acidente com VITIMA', 'Acidente com vitima',inplace=True)\n",
    "df_acidentes['tipo_de_ocorrencia'].replace('ac02 - Acidente com Vítima', 'Acidente com vitima',inplace=True)\n",
    "df_acidentes['tipo_de_ocorrencia'].replace(' 2- Acidente com VITIMA', 'Acidente com vitima',inplace=True)\n",
    "df_acidentes['tipo_de_ocorrencia'].replace('Acidente com VITIMA', 'Acidente com vitima',inplace=True)\n",
    "df_acidentes['tipo_de_ocorrencia'].replace('ac03 - Acidente com vítima ilesa', 'Acidente com vitima',inplace=True)\n",
    "df_acidentes['tipo_de_ocorrencia'].replace('2 - Acidente com Vitima', 'Acidente com vitima',inplace=True)\n",
    "df_acidentes['tipo_de_ocorrencia'].replace('Acidente com vítima - TRECHO CONTORNO', 'Acidente com vitima',inplace=True)\n",
    "df_acidentes['tipo_de_ocorrencia'].replace('Acidente com Vítima - TRECHO CONTORNO', 'Acidente com vitima',inplace=True)\n",
    "df_acidentes['tipo_de_ocorrencia'].replace('AC02 - ACIDENTE COM VÍTIMA', 'Acidente com vitima',inplace=True)\n",
    "df_acidentes['tipo_de_ocorrencia'].replace('3 - Acidente com Vitima Sem Lesão', 'Acidente com vitima',inplace=True)\n",
    "df_acidentes['tipo_de_ocorrencia'].replace('AC02 - Acidente com VITIMA', 'Acidente com vitima',inplace=True)\n",
    "df_acidentes['tipo_de_ocorrencia'].replace('ac02 - Acidente com vítima', 'Acidente com vitima',inplace=True)\n",
    "df_acidentes['tipo_de_ocorrencia'].replace('AC2 - Acidente com VITIMA', 'Acidente com vitima',inplace=True)\n",
    "\n",
    "\n",
    "\n",
    "df_acidentes['tipo_de_ocorrencia'].replace('1 - Acidente com Vitima Fatal', 'Acidente com Vitima Fatal',inplace=True)\n",
    "df_acidentes['tipo_de_ocorrencia'].replace('AF - Acidente com Vitima Fatal', 'Acidente com Vitima Fatal',inplace=True)\n",
    "df_acidentes['tipo_de_ocorrencia'].replace('Acidente com morte', 'Acidente com Vitima Fatal',inplace=True)\n",
    "df_acidentes['tipo_de_ocorrencia'].replace('ac01 - Acidente com Vitima Fatal', 'Acidente com Vitima Fatal',inplace=True)\n",
    "df_acidentes['tipo_de_ocorrencia'].replace('Acidente Fatal', 'Acidente com Vitima Fatal',inplace=True)\n",
    "df_acidentes['tipo_de_ocorrencia'].replace('Acidente fatal', 'Acidente com Vitima Fatal',inplace=True)\n",
    "df_acidentes['tipo_de_ocorrencia'].replace('Acidente com morte - TRECHO CONTORNO', 'Acidente com Vitima Fatal',inplace=True)\n",
    "df_acidentes['tipo_de_ocorrencia'].replace('ac01 - Acidente com vitima fatal', 'Acidente com Vitima Fatal',inplace=True)\n",
    "df_acidentes['tipo_de_ocorrencia'].replace('AC1 - Acidente com VITIMA FATAL', 'Acidente com Vitima Fatal',inplace=True)\n",
    "df_acidentes['tipo_de_ocorrencia'].replace('Acidente com VITIMA FATAL', 'Acidente com Vitima Fatal',inplace=True)\n",
    "\n",
    "df_acidentes['tipo_de_ocorrencia'].replace('Acidente com Morte - TRECHO CONTORNO', 'Acidente com Vitima Fatal',inplace=True)\n",
    "df_acidentes['tipo_de_ocorrencia'].replace('Acidente com Morte', 'Acidente com Vitima Fatal',inplace=True)\n",
    "df_acidentes['tipo_de_ocorrencia'].replace('AC01 - ACIDENTE COM VÍTIMA FATAL', 'Acidente com Vitima Fatal',inplace=True)\n",
    "df_acidentes['tipo_de_ocorrencia'].replace('AC01 - Acidente com VITIMA FATAL', 'Acidente com Vitima Fatal',inplace=True)\n",
    "df_acidentes['tipo_de_ocorrencia'].replace('ac01 - Acidente com Vítima Fatal', 'Acidente com Vitima Fatal',inplace=True)\n",
    "\n",
    "\n",
    "df_acidentes['tipo_de_ocorrencia'].replace('3 - Acidente com Danos Materiais', 'Acidente com Danos Materiais',inplace=True)\n",
    "\n",
    "df_acidentes['tipo_de_ocorrencia'].replace('Atropelamento com morte', 'Atropelamento Fatal',inplace=True)\n",
    "df_acidentes['tipo_de_ocorrencia'].replace('Atropelamento com Morte', 'Atropelamento Fatal',inplace=True)\n",
    "df_acidentes['tipo_de_ocorrencia'].replace('AC05 - Atropelamento Fatal', 'Atropelamento Fatal',inplace=True)\n",
    "\n",
    "df_acidentes['tipo_de_ocorrencia'].replace('Atropelamento sem Morte - TRECHO CONTORNO', 'Atropelamento',inplace=True)\n",
    "df_acidentes['tipo_de_ocorrencia'].replace('AC04 - Atropelamento', 'Atropelamento',inplace=True)\n",
    "df_acidentes['tipo_de_ocorrencia'].replace('Atropelamento sem morte', 'Atropelamento',inplace=True)\n",
    "df_acidentes['tipo_de_ocorrencia'].replace('Atropelamento sem Morte', 'Atropelamento',inplace=True)\n",
    "df_acidentes['tipo_de_ocorrencia'].replace('Atropelamento sem morte - TRECHO CONTORNO', 'Atropelamento',inplace=True)\n",
    "\n",
    "\n",
    "df_acidentes['tipo_de_ocorrencia'].replace('in21 - Suícidio', 'Suícidio',inplace=True)\n",
    "\n",
    "df_acidentes['tipo_de_ocorrencia'].replace('A PP - Acidente envolvendo Produto Perigoso', 'Acidente envolvendo Produto Perigoso',inplace=True)\n",
    "\n",
    "\n",
    "df_acidentes['tipo_de_ocorrencia'].replace('A PPV - Acidente envolvendo Produto Perigoso com vitima', 'Acidente envolvendo Produto Perigoso com vitima',inplace=True)\n",
    "\n",
    "df_acidentes['tipo_de_ocorrencia'].replace('A PPF - Acidente envolvendo Produto Perigoso vitima fatal', 'Acidente envolvendo Produto Perigoso vitima fatal',inplace=True)\n",
    "\n",
    "df_acidentes['tipo_de_ocorrencia'].replace('ac03 - Acidente com Danos Materiais', 'Acidente com Danos Materiais',inplace=True)\n",
    " \n",
    "## Verificando os valores únicos para TIPO_DE_OCORRENCIA\n",
    "# print(df_acidentes['tipo_de_ocorrencia'].unique())"
   ]
  },
  {
   "cell_type": "markdown",
   "metadata": {},
   "source": [
    "2. Removendo valores nulos\n",
    "\n",
    "Removendo valores nulos e preenchendo com valores relevantes para o projeto."
   ]
  },
  {
   "cell_type": "code",
   "execution_count": 128,
   "metadata": {},
   "outputs": [
    {
     "data": {
      "text/plain": [
       "data                               True\n",
       "horario                           False\n",
       "n_da_ocorrencia                   False\n",
       "tipo_de_ocorrencia                 True\n",
       "km                                 True\n",
       "trecho                            False\n",
       "sentido                            True\n",
       "tipo_de_acidente                   True\n",
       "automovel                          True\n",
       "bicicleta                          True\n",
       "caminhao                           True\n",
       "moto                               True\n",
       "onibus                             True\n",
       "outros                             True\n",
       "tracao_animal                      True\n",
       "transporte_de_cargas_especiais     True\n",
       "trator_maquinas                    True\n",
       "utilitarios                        True\n",
       "ilesos                             True\n",
       "levemente_feridos                  True\n",
       "moderadamente_feridos              True\n",
       "gravemente_feridos                 True\n",
       "mortos                             True\n",
       "rodovia                           False\n",
       "uf                                 True\n",
       "ano                                True\n",
       "mes                                True\n",
       "dtype: bool"
      ]
     },
     "execution_count": 128,
     "metadata": {},
     "output_type": "execute_result"
    }
   ],
   "source": [
    "# Identificando valores Nulos em colunas - Acidentes\n",
    "df_acidentes.isna().any()"
   ]
  },
  {
   "cell_type": "code",
   "execution_count": 149,
   "metadata": {},
   "outputs": [],
   "source": [
    "# Preenchendo os valores nulos\n",
    "df_acidentes.data.fillna('00-00-000', inplace=True)\n",
    "df_acidentes.horario.fillna('N/A', inplace=True)\n",
    "df_acidentes.n_da_ocorrencia.fillna(0, inplace=True)\n",
    "df_acidentes.tipo_de_ocorrencia.fillna('Não Informado', inplace=True)\n",
    "df_acidentes.km.fillna(0, inplace=True)\n",
    "df_acidentes.trecho.fillna('Não Informado', inplace=True)\n",
    "df_acidentes.sentido.fillna('N/A', inplace=True)\n",
    "df_acidentes.tipo_de_acidente.fillna('Não Informado', inplace=True)\n",
    "df_acidentes.automovel.fillna(0, inplace=True)\n",
    "df_acidentes.bicicleta.fillna(0, inplace=True)\n",
    "df_acidentes.caminhao.fillna(0, inplace=True)\n",
    "df_acidentes.moto.fillna(0, inplace=True)\n",
    "df_acidentes.onibus.fillna(0, inplace=True)\n",
    "df_acidentes.outros.fillna(0, inplace=True)\n",
    "df_acidentes.tracao_animal.fillna(0, inplace=True)\n",
    "df_acidentes.automovel.fillna(0, inplace=True)\n",
    "df_acidentes.transporte_de_cargas_especiais.fillna(0, inplace=True)\n",
    "df_acidentes.trator_maquinas.fillna(0, inplace=True)\n",
    "df_acidentes.utilitarios.fillna(0, inplace=True)\n",
    "df_acidentes.ilesos.fillna(0, inplace=True)\n",
    "df_acidentes.levemente_feridos.fillna(0, inplace=True)\n",
    "df_acidentes.moderadamente_feridos.fillna(0, inplace=True)\n",
    "df_acidentes.gravemente_feridos.fillna(0, inplace=True)\n",
    "df_acidentes.mortos.fillna(0, inplace=True)\n",
    "df_acidentes.uf.fillna('N/A',inplace=True)\n",
    "df_acidentes.ano.fillna('N/A',inplace=True)\n",
    "df_acidentes.mes.fillna('N/A',inplace=True)"
   ]
  },
  {
   "cell_type": "code",
   "execution_count": 130,
   "metadata": {},
   "outputs": [
    {
     "data": {
      "text/plain": [
       "concessionaria        False\n",
       "ano_do_pnv_snv        False\n",
       "tipo_de_radar         False\n",
       "rodovia               False\n",
       "uf                    False\n",
       "km_m                  False\n",
       "municipio             False\n",
       "tipo_pista            False\n",
       "sentido               False\n",
       "situacao              False\n",
       "data_da_inativacao     True\n",
       "latitude              False\n",
       "longitude             False\n",
       "velocidade_leve       False\n",
       "velocidade_pesado     False\n",
       "dtype: bool"
      ]
     },
     "execution_count": 130,
     "metadata": {},
     "output_type": "execute_result"
    }
   ],
   "source": [
    "# Identificando valores Nulos em colunas - Radar\n",
    "df_radar.isna().any()"
   ]
  },
  {
   "cell_type": "code",
   "execution_count": 150,
   "metadata": {},
   "outputs": [],
   "source": [
    "# Preenchendo os valores nulos\n",
    "df_radar.data_da_inativacao.fillna('00-00-000', inplace=True)"
   ]
  },
  {
   "cell_type": "code",
   "execution_count": 132,
   "metadata": {},
   "outputs": [
    {
     "data": {
      "text/plain": [
       "concessionaria            False\n",
       "ano_do_pnv_snv            False\n",
       "rodovia_uf                False\n",
       "tipo_pista                False\n",
       "sentido                   False\n",
       "tipo_perfil_de_terreno    False\n",
       "km_m_inicial              False\n",
       "latitude_inicial          False\n",
       "longitude_inicial         False\n",
       "latitude_final            False\n",
       "km_m_final                False\n",
       "longitude_final           False\n",
       "rodovia                   False\n",
       "uf                        False\n",
       "dtype: bool"
      ]
     },
     "execution_count": 132,
     "metadata": {},
     "output_type": "execute_result"
    }
   ],
   "source": [
    "# Identificando valores Nulos em colunas - Terreno\n",
    "df_terreno.isna().any()"
   ]
  },
  {
   "cell_type": "code",
   "execution_count": 133,
   "metadata": {},
   "outputs": [
    {
     "data": {
      "text/plain": [
       "concessionaria        False\n",
       "nome_posto_prf        False\n",
       "ano_do_pnv_snv        False\n",
       "rodovia               False\n",
       "uf                    False\n",
       "km_m                  False\n",
       "municipio             False\n",
       "tipo_pista            False\n",
       "sentido               False\n",
       "situacao              False\n",
       "data_da_inativacao     True\n",
       "latitude              False\n",
       "longitude             False\n",
       "dtype: bool"
      ]
     },
     "execution_count": 133,
     "metadata": {},
     "output_type": "execute_result"
    }
   ],
   "source": [
    "# Identificando valores Nulos em colunas - Postos PRF\n",
    "df_postos_prf.isna().any()"
   ]
  },
  {
   "cell_type": "code",
   "execution_count": 151,
   "metadata": {},
   "outputs": [],
   "source": [
    "# Preenchendo os valores nulos\n",
    "df_postos_prf.data_da_inativacao.fillna('00-00-000', inplace=True)"
   ]
  },
  {
   "cell_type": "code",
   "execution_count": 152,
   "metadata": {},
   "outputs": [
    {
     "data": {
      "text/html": [
       "<div>\n",
       "<style scoped>\n",
       "    .dataframe tbody tr th:only-of-type {\n",
       "        vertical-align: middle;\n",
       "    }\n",
       "\n",
       "    .dataframe tbody tr th {\n",
       "        vertical-align: top;\n",
       "    }\n",
       "\n",
       "    .dataframe thead th {\n",
       "        text-align: right;\n",
       "    }\n",
       "</style>\n",
       "<table border=\"1\" class=\"dataframe\">\n",
       "  <thead>\n",
       "    <tr style=\"text-align: right;\">\n",
       "      <th></th>\n",
       "      <th>concessionaria</th>\n",
       "      <th>nome_posto_prf</th>\n",
       "      <th>ano_do_pnv_snv</th>\n",
       "      <th>rodovia</th>\n",
       "      <th>uf</th>\n",
       "      <th>km_m</th>\n",
       "      <th>municipio</th>\n",
       "      <th>tipo_pista</th>\n",
       "      <th>sentido</th>\n",
       "      <th>situacao</th>\n",
       "      <th>data_da_inativacao</th>\n",
       "      <th>latitude</th>\n",
       "      <th>longitude</th>\n",
       "    </tr>\n",
       "  </thead>\n",
       "  <tbody>\n",
       "    <tr>\n",
       "      <th>0</th>\n",
       "      <td>AUTOPISTA FLUMINENSE</td>\n",
       "      <td>UOP 01 da 5ª DEL</td>\n",
       "      <td>2019</td>\n",
       "      <td>BR-101</td>\n",
       "      <td>RJ</td>\n",
       "      <td>27,800</td>\n",
       "      <td>Campos dos Goytacazes</td>\n",
       "      <td>Principal</td>\n",
       "      <td>Decrescente</td>\n",
       "      <td>Ativo</td>\n",
       "      <td>00-00-000</td>\n",
       "      <td>-21,447613</td>\n",
       "      <td>-41,343120</td>\n",
       "    </tr>\n",
       "    <tr>\n",
       "      <th>1</th>\n",
       "      <td>AUTOPISTA FLUMINENSE</td>\n",
       "      <td>UOP 02 da 5ª DEL</td>\n",
       "      <td>2019</td>\n",
       "      <td>BR-101</td>\n",
       "      <td>RJ</td>\n",
       "      <td>78,150</td>\n",
       "      <td>Campos dos Goytacazes</td>\n",
       "      <td>Principal</td>\n",
       "      <td>Decrescente</td>\n",
       "      <td>Ativo</td>\n",
       "      <td>00-00-000</td>\n",
       "      <td>-21,835839</td>\n",
       "      <td>-41,420620</td>\n",
       "    </tr>\n",
       "    <tr>\n",
       "      <th>2</th>\n",
       "      <td>AUTOPISTA FLUMINENSE</td>\n",
       "      <td>UOP 04 da 2ª DEL</td>\n",
       "      <td>2019</td>\n",
       "      <td>BR-101</td>\n",
       "      <td>RJ</td>\n",
       "      <td>203,370</td>\n",
       "      <td>Casimiro de Abreu</td>\n",
       "      <td>Principal</td>\n",
       "      <td>Crescente</td>\n",
       "      <td>Ativo</td>\n",
       "      <td>00-00-000</td>\n",
       "      <td>-22,475444</td>\n",
       "      <td>-42,172346</td>\n",
       "    </tr>\n",
       "    <tr>\n",
       "      <th>3</th>\n",
       "      <td>AUTOPISTA FLUMINENSE</td>\n",
       "      <td>UOP 03 da 2ª DEL</td>\n",
       "      <td>2019</td>\n",
       "      <td>BR-101</td>\n",
       "      <td>RJ</td>\n",
       "      <td>269,050</td>\n",
       "      <td>Rio Bonito</td>\n",
       "      <td>Principal</td>\n",
       "      <td>Crescente</td>\n",
       "      <td>Ativo</td>\n",
       "      <td>00-00-000</td>\n",
       "      <td>-22,715042</td>\n",
       "      <td>-42,679022</td>\n",
       "    </tr>\n",
       "    <tr>\n",
       "      <th>4</th>\n",
       "      <td>AUTOPISTA FLUMINENSE</td>\n",
       "      <td>UOP 02 da 2ª DEL</td>\n",
       "      <td>2019</td>\n",
       "      <td>BR-101</td>\n",
       "      <td>RJ</td>\n",
       "      <td>308,070</td>\n",
       "      <td>São Gonçalo</td>\n",
       "      <td>Principal</td>\n",
       "      <td>Crescente</td>\n",
       "      <td>Ativo</td>\n",
       "      <td>00-00-000</td>\n",
       "      <td>-22,792949</td>\n",
       "      <td>-43,024864</td>\n",
       "    </tr>\n",
       "    <tr>\n",
       "      <th>...</th>\n",
       "      <td>...</td>\n",
       "      <td>...</td>\n",
       "      <td>...</td>\n",
       "      <td>...</td>\n",
       "      <td>...</td>\n",
       "      <td>...</td>\n",
       "      <td>...</td>\n",
       "      <td>...</td>\n",
       "      <td>...</td>\n",
       "      <td>...</td>\n",
       "      <td>...</td>\n",
       "      <td>...</td>\n",
       "      <td>...</td>\n",
       "    </tr>\n",
       "    <tr>\n",
       "      <th>73</th>\n",
       "      <td>VIA BAHIA</td>\n",
       "      <td>Poções</td>\n",
       "      <td>2003</td>\n",
       "      <td>BR-116</td>\n",
       "      <td>BA</td>\n",
       "      <td>759,000</td>\n",
       "      <td>Poções</td>\n",
       "      <td>Principal</td>\n",
       "      <td>Decrescente</td>\n",
       "      <td>Ativo</td>\n",
       "      <td>00-00-000</td>\n",
       "      <td>-14,543002</td>\n",
       "      <td>-40,395276</td>\n",
       "    </tr>\n",
       "    <tr>\n",
       "      <th>74</th>\n",
       "      <td>VIA BAHIA</td>\n",
       "      <td>Vitória da Conquista</td>\n",
       "      <td>2003</td>\n",
       "      <td>BR-116</td>\n",
       "      <td>BA</td>\n",
       "      <td>830,000</td>\n",
       "      <td>Vitória da Conquista</td>\n",
       "      <td>Principal</td>\n",
       "      <td>Decrescente</td>\n",
       "      <td>Ativo</td>\n",
       "      <td>00-00-000</td>\n",
       "      <td>-14,912414</td>\n",
       "      <td>-40,875554</td>\n",
       "    </tr>\n",
       "    <tr>\n",
       "      <th>75</th>\n",
       "      <td>VIA BAHIA</td>\n",
       "      <td>Divisa BA/MG</td>\n",
       "      <td>2003</td>\n",
       "      <td>BR-116</td>\n",
       "      <td>BA</td>\n",
       "      <td>931,700</td>\n",
       "      <td>Encruzilhada</td>\n",
       "      <td>Principal</td>\n",
       "      <td>Crescente</td>\n",
       "      <td>Ativo</td>\n",
       "      <td>00-00-000</td>\n",
       "      <td>-15,685175</td>\n",
       "      <td>-41,325423</td>\n",
       "    </tr>\n",
       "    <tr>\n",
       "      <th>76</th>\n",
       "      <td>VIA SUL</td>\n",
       "      <td>Polícia Rodoviária Federal de Torres</td>\n",
       "      <td>2019</td>\n",
       "      <td>BR-101</td>\n",
       "      <td>RS</td>\n",
       "      <td>0,200</td>\n",
       "      <td>Torres</td>\n",
       "      <td>Principal</td>\n",
       "      <td>Crescente/Decrescente</td>\n",
       "      <td>Ativo</td>\n",
       "      <td>00-00-000</td>\n",
       "      <td>-29,300935</td>\n",
       "      <td>-49,771369</td>\n",
       "    </tr>\n",
       "    <tr>\n",
       "      <th>77</th>\n",
       "      <td>VIA SUL</td>\n",
       "      <td>Polícia Rodoviária Federal de Osório</td>\n",
       "      <td>2019</td>\n",
       "      <td>BR-101</td>\n",
       "      <td>RS</td>\n",
       "      <td>83,200</td>\n",
       "      <td>Osório</td>\n",
       "      <td>Principal</td>\n",
       "      <td>Crescente</td>\n",
       "      <td>Ativo</td>\n",
       "      <td>00-00-000</td>\n",
       "      <td>-29,857100</td>\n",
       "      <td>-50,248116</td>\n",
       "    </tr>\n",
       "  </tbody>\n",
       "</table>\n",
       "<p>78 rows × 13 columns</p>\n",
       "</div>"
      ],
      "text/plain": [
       "          concessionaria                        nome_posto_prf  \\\n",
       "0   AUTOPISTA FLUMINENSE                      UOP 01 da 5ª DEL   \n",
       "1   AUTOPISTA FLUMINENSE                      UOP 02 da 5ª DEL   \n",
       "2   AUTOPISTA FLUMINENSE                      UOP 04 da 2ª DEL   \n",
       "3   AUTOPISTA FLUMINENSE                      UOP 03 da 2ª DEL   \n",
       "4   AUTOPISTA FLUMINENSE                      UOP 02 da 2ª DEL   \n",
       "..                   ...                                   ...   \n",
       "73             VIA BAHIA                                Poções   \n",
       "74             VIA BAHIA                  Vitória da Conquista   \n",
       "75             VIA BAHIA                          Divisa BA/MG   \n",
       "76               VIA SUL  Polícia Rodoviária Federal de Torres   \n",
       "77               VIA SUL  Polícia Rodoviária Federal de Osório   \n",
       "\n",
       "    ano_do_pnv_snv rodovia  uf     km_m              municipio tipo_pista  \\\n",
       "0             2019  BR-101  RJ   27,800  Campos dos Goytacazes  Principal   \n",
       "1             2019  BR-101  RJ   78,150  Campos dos Goytacazes  Principal   \n",
       "2             2019  BR-101  RJ  203,370      Casimiro de Abreu  Principal   \n",
       "3             2019  BR-101  RJ  269,050             Rio Bonito  Principal   \n",
       "4             2019  BR-101  RJ  308,070            São Gonçalo  Principal   \n",
       "..             ...     ...  ..      ...                    ...        ...   \n",
       "73            2003  BR-116  BA  759,000                 Poções  Principal   \n",
       "74            2003  BR-116  BA  830,000   Vitória da Conquista  Principal   \n",
       "75            2003  BR-116  BA  931,700           Encruzilhada  Principal   \n",
       "76            2019  BR-101  RS    0,200                 Torres  Principal   \n",
       "77            2019  BR-101  RS   83,200                 Osório  Principal   \n",
       "\n",
       "                  sentido situacao data_da_inativacao    latitude   longitude  \n",
       "0             Decrescente    Ativo          00-00-000  -21,447613  -41,343120  \n",
       "1             Decrescente    Ativo          00-00-000  -21,835839  -41,420620  \n",
       "2               Crescente    Ativo          00-00-000  -22,475444  -42,172346  \n",
       "3               Crescente    Ativo          00-00-000  -22,715042  -42,679022  \n",
       "4               Crescente    Ativo          00-00-000  -22,792949  -43,024864  \n",
       "..                    ...      ...                ...         ...         ...  \n",
       "73            Decrescente    Ativo          00-00-000  -14,543002  -40,395276  \n",
       "74            Decrescente    Ativo          00-00-000  -14,912414  -40,875554  \n",
       "75              Crescente    Ativo          00-00-000  -15,685175  -41,325423  \n",
       "76  Crescente/Decrescente    Ativo          00-00-000  -29,300935  -49,771369  \n",
       "77              Crescente    Ativo          00-00-000  -29,857100  -50,248116  \n",
       "\n",
       "[78 rows x 13 columns]"
      ]
     },
     "execution_count": 152,
     "metadata": {},
     "output_type": "execute_result"
    }
   ],
   "source": [
    "# Removendo duplicadas considerando todas as colunas\n",
    "\n",
    "df_acidentes.drop_duplicates()\n",
    "df_radar.drop_duplicates()\n",
    "df_terreno.drop_duplicates()\n",
    "df_postos_prf.drop_duplicates()\n"
   ]
  },
  {
   "cell_type": "markdown",
   "metadata": {},
   "source": [
    "3. Exclusão de registros\n",
    "\n",
    "Neste trabalho iremos estudar apenas as rodovias federais do Brasil. Foram encontrados nos dados rodovias fora do escopo.\n",
    "Por esse motivo, o código abaixo filtra  todos os datasets apenas pelas rodovias federais do Brasil."
   ]
  },
  {
   "cell_type": "code",
   "execution_count": 153,
   "metadata": {},
   "outputs": [],
   "source": [
    "df_acidentes = df_acidentes[df_acidentes['rodovia'].str.contains(\"BR\")]\n",
    "df_terreno = df_terreno[df_terreno['rodovia'].str.contains(\"BR\")]\n",
    "df_postos_prf = df_postos_prf[df_postos_prf['rodovia'].str.contains(\"BR\")]"
   ]
  },
  {
   "cell_type": "markdown",
   "metadata": {},
   "source": [
    "Outro filtro necessário são os radares e postos da Polícia Federal ativos:"
   ]
  },
  {
   "cell_type": "code",
   "execution_count": 154,
   "metadata": {},
   "outputs": [],
   "source": [
    "df_radar = df_radar[df_radar['situacao'].str.contains(\"Ativo\")]\n",
    "df_postos_prf = df_postos_prf[df_postos_prf['situacao'].str.contains(\"Ativo\")]"
   ]
  },
  {
   "cell_type": "markdown",
   "metadata": {},
   "source": [
    "### Análise e Exploração dos Dados"
   ]
  },
  {
   "cell_type": "markdown",
   "metadata": {},
   "source": [
    "Para entender melhor o conjunto de dados estudado no presente trabalho, iniciaremos a fase de Análise e Exploração dos dados que visa identificar as principais características dos dados.\n",
    "\n",
    "Com a análise será possível identificar padrões e destacar traços relevantes do assunto trabalhado.\n",
    "\n",
    "Segue abaixo alguns tópicos para essa sessão:\n",
    "1. Quais rodovias possuem mais acidentes por ano?\n",
    "2. Quais rodovias possuem mais acidentes com vítima fatal?\n",
    "3. Quantos radares por rodovia?\n",
    "4. Quantos postos de polícia federal por rodovia?\n",
    "5. Quais tipos de acidentes em cada rodovia?\n",
    "6. Quais tipos de terrenos em cada rodovia?\n",
    "7. Qual a correlação de radares ativos com a quantidade de acidentes em cada rodovia?\n",
    "8. Qual a correlação de terrenos com a quantidade de acidentes em cada rodovia?"
   ]
  },
  {
   "cell_type": "markdown",
   "metadata": {},
   "source": [
    "1. Quais rodovias possuem mais acidentes por ano?"
   ]
  },
  {
   "cell_type": "code",
   "execution_count": 171,
   "metadata": {},
   "outputs": [
    {
     "data": {
      "text/html": [
       "<div>\n",
       "<style scoped>\n",
       "    .dataframe tbody tr th:only-of-type {\n",
       "        vertical-align: middle;\n",
       "    }\n",
       "\n",
       "    .dataframe tbody tr th {\n",
       "        vertical-align: top;\n",
       "    }\n",
       "\n",
       "    .dataframe thead th {\n",
       "        text-align: right;\n",
       "    }\n",
       "</style>\n",
       "<table border=\"1\" class=\"dataframe\">\n",
       "  <thead>\n",
       "    <tr style=\"text-align: right;\">\n",
       "      <th></th>\n",
       "      <th>rodovia</th>\n",
       "      <th>uf</th>\n",
       "      <th>ano</th>\n",
       "      <th>mes</th>\n",
       "      <th>qtd_acidentes</th>\n",
       "    </tr>\n",
       "  </thead>\n",
       "  <tbody>\n",
       "    <tr>\n",
       "      <th>23</th>\n",
       "      <td>BR-393</td>\n",
       "      <td>RJ</td>\n",
       "      <td>2020.0</td>\n",
       "      <td>12.0</td>\n",
       "      <td>311</td>\n",
       "    </tr>\n",
       "    <tr>\n",
       "      <th>12</th>\n",
       "      <td>BR-393</td>\n",
       "      <td>RJ</td>\n",
       "      <td>2020.0</td>\n",
       "      <td>1.0</td>\n",
       "      <td>259</td>\n",
       "    </tr>\n",
       "    <tr>\n",
       "      <th>28</th>\n",
       "      <td>BR-393</td>\n",
       "      <td>RJ</td>\n",
       "      <td>2021.0</td>\n",
       "      <td>5.0</td>\n",
       "      <td>253</td>\n",
       "    </tr>\n",
       "    <tr>\n",
       "      <th>10</th>\n",
       "      <td>BR-393</td>\n",
       "      <td>RJ</td>\n",
       "      <td>2019.0</td>\n",
       "      <td>11.0</td>\n",
       "      <td>252</td>\n",
       "    </tr>\n",
       "    <tr>\n",
       "      <th>13</th>\n",
       "      <td>BR-393</td>\n",
       "      <td>RJ</td>\n",
       "      <td>2020.0</td>\n",
       "      <td>2.0</td>\n",
       "      <td>252</td>\n",
       "    </tr>\n",
       "  </tbody>\n",
       "</table>\n",
       "</div>"
      ],
      "text/plain": [
       "   rodovia  uf     ano   mes  qtd_acidentes\n",
       "23  BR-393  RJ  2020.0  12.0            311\n",
       "12  BR-393  RJ  2020.0   1.0            259\n",
       "28  BR-393  RJ  2021.0   5.0            253\n",
       "10  BR-393  RJ  2019.0  11.0            252\n",
       "13  BR-393  RJ  2020.0   2.0            252"
      ]
     },
     "execution_count": 171,
     "metadata": {},
     "output_type": "execute_result"
    }
   ],
   "source": [
    "# Filtrando os acidentes que possuem o ano referenciado\n",
    "df_acidentes_ano = df_acidentes.loc[df_acidentes['ano'] !='N/A']\n",
    "\n",
    "# Calculando a quantidade de acidentes por ano e mês\n",
    "qtd_acidentes = df_acidentes_ano.groupby(['rodovia','uf','ano','mes']).size().reset_index(name='qtd_acidentes').sort_values(by=['qtd_acidentes'], ascending=False)\n",
    "\n",
    "\n",
    "qtd_acidentes.head()"
   ]
  },
  {
   "cell_type": "markdown",
   "metadata": {},
   "source": [
    "2. Quais rodovias possuem mais acidentes com vítima fatal?"
   ]
  },
  {
   "cell_type": "code",
   "execution_count": 191,
   "metadata": {},
   "outputs": [
    {
     "data": {
      "image/png": "[encoded data removed]",
      "text/plain": [
       "<Figure size 432x288 with 1 Axes>"
      ]
     },
     "metadata": {
      "needs_background": "light"
     },
     "output_type": "display_data"
    }
   ],
   "source": [
    "qtd_fatal = df_acidentes[df_acidentes['mortos'] != 0].groupby(['rodovia','uf']).size().reset_index(name='mortes').sort_values(by=['mortes'], ascending=False)\n",
    "qtd_fatal = qtd_fatal.head(15)\n",
    "\n",
    "grafico_barras(qtd_fatal['rodovia'],qtd_fatal['mortes'],'Mortes Fatais')"
   ]
  },
  {
   "cell_type": "markdown",
   "metadata": {},
   "source": [
    "3. Quantos radares por rodovia?"
   ]
  },
  {
   "cell_type": "code",
   "execution_count": 194,
   "metadata": {},
   "outputs": [
    {
     "data": {
      "image/png": "[encoded data removed]",
      "text/plain": [
       "<Figure size 432x288 with 1 Axes>"
      ]
     },
     "metadata": {
      "needs_background": "light"
     },
     "output_type": "display_data"
    }
   ],
   "source": [
    "qtd_radar =df_radar[df_radar['situacao'] == 'Ativo'].groupby(['rodovia','uf']).size().reset_index(name='radar').sort_values(by=['radar'], ascending=False)\n",
    "\n",
    "grafico_dispersao(qtd_radar['rodovia'],qtd_radar['radar'])"
   ]
  },
  {
   "cell_type": "markdown",
   "metadata": {},
   "source": [
    "4.Quantos postos de polícia federal por rodovia?"
   ]
  },
  {
   "cell_type": "code",
   "execution_count": 159,
   "metadata": {},
   "outputs": [
    {
     "data": {
      "text/html": [
       "<div>\n",
       "<style scoped>\n",
       "    .dataframe tbody tr th:only-of-type {\n",
       "        vertical-align: middle;\n",
       "    }\n",
       "\n",
       "    .dataframe tbody tr th {\n",
       "        vertical-align: top;\n",
       "    }\n",
       "\n",
       "    .dataframe thead th {\n",
       "        text-align: right;\n",
       "    }\n",
       "</style>\n",
       "<table border=\"1\" class=\"dataframe\">\n",
       "  <thead>\n",
       "    <tr style=\"text-align: right;\">\n",
       "      <th></th>\n",
       "      <th>rodovia</th>\n",
       "      <th>uf</th>\n",
       "      <th>postos_prf</th>\n",
       "    </tr>\n",
       "  </thead>\n",
       "  <tbody>\n",
       "    <tr>\n",
       "      <th>9</th>\n",
       "      <td>BR-116</td>\n",
       "      <td>SP</td>\n",
       "      <td>13</td>\n",
       "    </tr>\n",
       "    <tr>\n",
       "      <th>0</th>\n",
       "      <td>BR-101</td>\n",
       "      <td>ES</td>\n",
       "      <td>10</td>\n",
       "    </tr>\n",
       "    <tr>\n",
       "      <th>6</th>\n",
       "      <td>BR-116</td>\n",
       "      <td>RJ</td>\n",
       "      <td>10</td>\n",
       "    </tr>\n",
       "    <tr>\n",
       "      <th>1</th>\n",
       "      <td>BR-101</td>\n",
       "      <td>RJ</td>\n",
       "      <td>7</td>\n",
       "    </tr>\n",
       "    <tr>\n",
       "      <th>12</th>\n",
       "      <td>BR-40</td>\n",
       "      <td>MG</td>\n",
       "      <td>6</td>\n",
       "    </tr>\n",
       "  </tbody>\n",
       "</table>\n",
       "</div>"
      ],
      "text/plain": [
       "   rodovia  uf  postos_prf\n",
       "9   BR-116  SP          13\n",
       "0   BR-101  ES          10\n",
       "6   BR-116  RJ          10\n",
       "1   BR-101  RJ           7\n",
       "12   BR-40  MG           6"
      ]
     },
     "execution_count": 159,
     "metadata": {},
     "output_type": "execute_result"
    }
   ],
   "source": [
    "qtd_postos =df_postos_prf[df_postos_prf['situacao'] == 'Ativo'].groupby(['rodovia','uf']).size().reset_index(name='postos_prf').sort_values(by=['postos_prf'], ascending=False)\n",
    "qtd_postos.head()"
   ]
  },
  {
   "cell_type": "markdown",
   "metadata": {},
   "source": [
    "5. Quais tipos de acidentes em cada rodovia?"
   ]
  },
  {
   "cell_type": "code",
   "execution_count": 106,
   "metadata": {},
   "outputs": [
    {
     "data": {
      "text/html": [
       "<div>\n",
       "<style scoped>\n",
       "    .dataframe tbody tr th:only-of-type {\n",
       "        vertical-align: middle;\n",
       "    }\n",
       "\n",
       "    .dataframe tbody tr th {\n",
       "        vertical-align: top;\n",
       "    }\n",
       "\n",
       "    .dataframe thead th {\n",
       "        text-align: right;\n",
       "    }\n",
       "</style>\n",
       "<table border=\"1\" class=\"dataframe\">\n",
       "  <thead>\n",
       "    <tr style=\"text-align: right;\">\n",
       "      <th></th>\n",
       "      <th>rodovia</th>\n",
       "      <th>tipo_de_ocorrencia</th>\n",
       "      <th>uf</th>\n",
       "      <th>qtd_ocorrencias</th>\n",
       "    </tr>\n",
       "  </thead>\n",
       "  <tbody>\n",
       "    <tr>\n",
       "      <th>67</th>\n",
       "      <td>BR-101</td>\n",
       "      <td>Acidente sem vitima</td>\n",
       "      <td>SC</td>\n",
       "      <td>54221</td>\n",
       "    </tr>\n",
       "    <tr>\n",
       "      <th>109</th>\n",
       "      <td>BR-116</td>\n",
       "      <td>Acidente sem vitima</td>\n",
       "      <td>PR</td>\n",
       "      <td>52421</td>\n",
       "    </tr>\n",
       "    <tr>\n",
       "      <th>173</th>\n",
       "      <td>BR-381</td>\n",
       "      <td>Acidente sem vitima</td>\n",
       "      <td>MG</td>\n",
       "      <td>48146</td>\n",
       "    </tr>\n",
       "    <tr>\n",
       "      <th>113</th>\n",
       "      <td>BR-116</td>\n",
       "      <td>Acidente sem vitima</td>\n",
       "      <td>SP</td>\n",
       "      <td>44531</td>\n",
       "    </tr>\n",
       "    <tr>\n",
       "      <th>110</th>\n",
       "      <td>BR-116</td>\n",
       "      <td>Acidente sem vitima</td>\n",
       "      <td>RJ</td>\n",
       "      <td>40125</td>\n",
       "    </tr>\n",
       "  </tbody>\n",
       "</table>\n",
       "</div>"
      ],
      "text/plain": [
       "    rodovia   tipo_de_ocorrencia  uf  qtd_ocorrencias\n",
       "67   BR-101  Acidente sem vitima  SC            54221\n",
       "109  BR-116  Acidente sem vitima  PR            52421\n",
       "173  BR-381  Acidente sem vitima  MG            48146\n",
       "113  BR-116  Acidente sem vitima  SP            44531\n",
       "110  BR-116  Acidente sem vitima  RJ            40125"
      ]
     },
     "execution_count": 106,
     "metadata": {},
     "output_type": "execute_result"
    }
   ],
   "source": [
    "tipo_acidentes_por_rodovia = df_acidentes.groupby(['rodovia','tipo_de_ocorrencia','uf']).size().reset_index(name='qtd_ocorrencias').sort_values(by=['qtd_ocorrencias'], ascending=False)\n",
    "tipo_acidentes_por_rodovia.head()"
   ]
  },
  {
   "cell_type": "markdown",
   "metadata": {},
   "source": [
    "6. Quais tipos de acidentes por rodovia?"
   ]
  },
  {
   "cell_type": "code",
   "execution_count": 101,
   "metadata": {},
   "outputs": [
    {
     "data": {
      "text/html": [
       "<div>\n",
       "<style scoped>\n",
       "    .dataframe tbody tr th:only-of-type {\n",
       "        vertical-align: middle;\n",
       "    }\n",
       "\n",
       "    .dataframe tbody tr th {\n",
       "        vertical-align: top;\n",
       "    }\n",
       "\n",
       "    .dataframe thead th {\n",
       "        text-align: right;\n",
       "    }\n",
       "</style>\n",
       "<table border=\"1\" class=\"dataframe\">\n",
       "  <thead>\n",
       "    <tr style=\"text-align: right;\">\n",
       "      <th></th>\n",
       "      <th>rodovia</th>\n",
       "      <th>tipo_perfil_de_terreno</th>\n",
       "      <th>uf</th>\n",
       "      <th>qtd_perfil_terreno</th>\n",
       "    </tr>\n",
       "  </thead>\n",
       "  <tbody>\n",
       "    <tr>\n",
       "      <th>19</th>\n",
       "      <td>BR-116</td>\n",
       "      <td>Perfil Ondulado</td>\n",
       "      <td>SC</td>\n",
       "      <td>2190</td>\n",
       "    </tr>\n",
       "    <tr>\n",
       "      <th>9</th>\n",
       "      <td>BR-101</td>\n",
       "      <td>Perfil Plano</td>\n",
       "      <td>RJ</td>\n",
       "      <td>1302</td>\n",
       "    </tr>\n",
       "    <tr>\n",
       "      <th>31</th>\n",
       "      <td>BR-50</td>\n",
       "      <td>Perfil Montanhoso</td>\n",
       "      <td>MG</td>\n",
       "      <td>1225</td>\n",
       "    </tr>\n",
       "    <tr>\n",
       "      <th>16</th>\n",
       "      <td>BR-116</td>\n",
       "      <td>Perfil Ondulado</td>\n",
       "      <td>PR</td>\n",
       "      <td>776</td>\n",
       "    </tr>\n",
       "    <tr>\n",
       "      <th>34</th>\n",
       "      <td>BR-50</td>\n",
       "      <td>Perfil Plano</td>\n",
       "      <td>GO</td>\n",
       "      <td>733</td>\n",
       "    </tr>\n",
       "  </tbody>\n",
       "</table>\n",
       "</div>"
      ],
      "text/plain": [
       "   rodovia tipo_perfil_de_terreno  uf  qtd_perfil_terreno\n",
       "19  BR-116        Perfil Ondulado  SC                2190\n",
       "9   BR-101           Perfil Plano  RJ                1302\n",
       "31   BR-50      Perfil Montanhoso  MG                1225\n",
       "16  BR-116        Perfil Ondulado  PR                 776\n",
       "34   BR-50           Perfil Plano  GO                 733"
      ]
     },
     "execution_count": 101,
     "metadata": {},
     "output_type": "execute_result"
    }
   ],
   "source": [
    "tipo_terreno_por_rodovia =df_terreno.groupby(['rodovia','tipo_perfil_de_terreno','uf']).size().reset_index(name='qtd_perfil_terreno').sort_values(by=['qtd_perfil_terreno'], ascending=False)\n",
    "tipo_terreno_por_rodovia.head()"
   ]
  },
  {
   "cell_type": "markdown",
   "metadata": {},
   "source": [
    "7. Qual a correlação de radares ativos com a quantidade de acidentes em cada rodovia?"
   ]
  },
  {
   "cell_type": "code",
   "execution_count": 108,
   "metadata": {},
   "outputs": [
    {
     "name": "stdout",
     "output_type": "stream",
     "text": [
      "  rodovia  uf  radar  qtd_acidentes\n",
      "0  BR-101  SC     70          84572\n",
      "1  BR-116  RJ     39          65162\n",
      "2  BR-116  SP     39          73031\n",
      "3  BR-101  ES     27          31235\n",
      "4  BR-101  RJ     21          45443\n"
     ]
    }
   ],
   "source": [
    "results_radar = pd.merge(qtd_radar, qtd_acidentes, on=[\"rodovia\",\"uf\"], how='inner')\n",
    "\n",
    "print(results_radar.head())"
   ]
  },
  {
   "cell_type": "markdown",
   "metadata": {},
   "source": [
    "8. Qual a correlação dos Terrenos nas rodovias com a quantidade de acidente?"
   ]
  },
  {
   "cell_type": "code",
   "execution_count": 107,
   "metadata": {},
   "outputs": [
    {
     "name": "stdout",
     "output_type": "stream",
     "text": [
      "  rodovia tipo_perfil_de_terreno  uf  qtd_perfil_terreno  qtd_acidentes\n",
      "0  BR-116        Perfil Ondulado  SC                2190          10696\n",
      "1  BR-116      Perfil Montanhoso  SC                 280          10696\n",
      "2  BR-116           Perfil Plano  SC                 274          10696\n",
      "3  BR-101           Perfil Plano  RJ                1302          45443\n",
      "4  BR-101        Perfil Ondulado  RJ                 330          45443\n"
     ]
    }
   ],
   "source": [
    "df_terreno_teste = tipo_terreno_por_rodovia.drop_duplicates(subset=['rodovia','uf','tipo_perfil_de_terreno'])\n",
    "df_acidentes_teste = qtd_acidentes.drop_duplicates(subset=['rodovia','uf'])\n",
    "\n",
    "\n",
    "results_terrenos = pd.merge(df_terreno_teste, df_acidentes_teste, on=[\"rodovia\",\"uf\"], how='inner')\n",
    "\n",
    "print(results_terrenos.head())"
   ]
  },
  {
   "cell_type": "code",
   "execution_count": null,
   "metadata": {},
   "outputs": [],
   "source": []
  },
  {
   "cell_type": "code",
   "execution_count": null,
   "metadata": {},
   "outputs": [],
   "source": []
  },
  {
   "cell_type": "code",
   "execution_count": null,
   "metadata": {},
   "outputs": [],
   "source": []
  },
  {
   "cell_type": "code",
   "execution_count": null,
   "metadata": {},
   "outputs": [],
   "source": []
  },
  {
   "cell_type": "code",
   "execution_count": null,
   "metadata": {},
   "outputs": [],
   "source": []
  },
  {
   "cell_type": "markdown",
   "metadata": {},
   "source": [
    "Tipo de veículo envolvido nos acidentes"
   ]
  },
  {
   "cell_type": "markdown",
   "metadata": {},
   "source": [
    "Tipo de acidentes por rodovia"
   ]
  },
  {
   "cell_type": "markdown",
   "metadata": {},
   "source": [
    "Testes de hipotese e intervalos de confianca"
   ]
  },
  {
   "cell_type": "markdown",
   "metadata": {},
   "source": [
    "### Criação, treinamento, aplicação e avaliação de modelos Machine Learning"
   ]
  },
  {
   "cell_type": "markdown",
   "metadata": {},
   "source": [
    "### Interpretação dos Resultados"
   ]
  },
  {
   "cell_type": "markdown",
   "metadata": {},
   "source": [
    "### Apresentacao dos Resultados"
   ]
  }
 ],
 "metadata": {
  "kernelspec": {
   "display_name": "Python 3",
   "language": "python",
   "name": "python3"
  },
  "language_info": {
   "codemirror_mode": {
    "name": "ipython",
    "version": 3
   },
   "file_extension": ".py",
   "mimetype": "text/x-python",
   "name": "python",
   "nbconvert_exporter": "python",
   "pygments_lexer": "ipython3",
   "version": "3.7.7"
  }
 },
 "nbformat": 4,
 "nbformat_minor": 4
}
