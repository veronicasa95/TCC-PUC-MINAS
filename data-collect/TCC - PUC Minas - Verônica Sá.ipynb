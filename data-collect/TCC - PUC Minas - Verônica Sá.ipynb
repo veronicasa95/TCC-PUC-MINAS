{
 "cells": [
  {
   "cell_type": "markdown",
   "metadata": {},
   "source": [
    "# Puc Minas\n",
    "\n",
    "## Pós Graduação em Ciência de Dados e Big Data (2020-2022)\n",
    "\n",
    "## Trabalho de Conclusão de Curso \n",
    "\n",
    "### Aluna: Verônica Sá Vieira da Silva\n",
    "\n"
   ]
  },
  {
   "cell_type": "markdown",
   "metadata": {},
   "source": [
    "O presente Trabalho de Conclusão de Curso em Ciências de dados e Big data estuda as Rodovias do Brasil \n",
    "utilizando o dataset do site <a href=\"https://dados.antt.gov.br/dataset?res_format=CSV&license_id=cc-by&res_format=JSON&groups=rodovias&page=2\">ANTT</a>.\n"
   ]
  },
  {
   "cell_type": "markdown",
   "metadata": {},
   "source": [
    "### Importação das bibliotecas utilizadas:\n"
   ]
  },
  {
   "cell_type": "code",
   "execution_count": 220,
   "metadata": {},
   "outputs": [],
   "source": [
    "# -*- coding: utf-8 -*-\n",
    "### Bibliotecas\n",
    "import os \n",
    "import pandas as pd\n",
    "import glob\n",
    "import numpy as np\n",
    "import matplotlib.pyplot as plt\n",
    "import datetime"
   ]
  },
  {
   "cell_type": "markdown",
   "metadata": {},
   "source": [
    "### Funcões:"
   ]
  },
  {
   "cell_type": "code",
   "execution_count": 472,
   "metadata": {},
   "outputs": [],
   "source": [
    "def grafico_dispersao(x,y,titulo,eixox,eixoy):\n",
    "# Gráfico de dispersao\n",
    "# Identifica a correlação \n",
    "    plt.scatter(x,y)\n",
    "    plt.title(titulo,fontsize=24)\n",
    "    plt.xlabel(eixox,fontsize=14)\n",
    "    plt.ylabel(eixoy,fontsize=14)\n",
    "    plt.show"
   ]
  },
  {
   "cell_type": "code",
   "execution_count": 541,
   "metadata": {},
   "outputs": [],
   "source": [
    "def grafico_barras_horizontal(x,y,marcador,titulo,eixox,eixoy):\n",
    "    #Definindo o grafico\n",
    "    plt.bar(x, y, label = marcador, color = 'r')\n",
    "    plt.title(titulo,fontsize=24)\n",
    "    plt.xlabel(eixox,fontsize=14)\n",
    "    plt.ylabel(eixoy,fontsize=14)\n",
    "    plt.style.use(\"ggplot\")\n",
    "    plt.show()\n",
    "    "
   ]
  },
  {
   "cell_type": "code",
   "execution_count": 441,
   "metadata": {},
   "outputs": [],
   "source": [
    "def grafico_barras_vertical(x,y,titulo,eixox,eixoy):\n",
    "    plt.style.use(\"ggplot\")\n",
    "    plt.barh(x,y)\n",
    "    plt.title(titulo,fontsize=24)\n",
    "    plt.xlabel(eixox,fontsize=14)\n",
    "    plt.ylabel(eixoy,fontsize=14)\n",
    "    plt.show()"
   ]
  },
  {
   "cell_type": "code",
   "execution_count": 386,
   "metadata": {},
   "outputs": [],
   "source": [
    "def grafico_linha(x,y,titulo,eixox,eixoy):\n",
    "    \n",
    "    plt.plot(x,y)\n",
    "    plt.title(titulo,fontsize=24)\n",
    "    plt.xlabel(eixox,fontsize=14)\n",
    "    plt.ylabel(eixoy,fontsize=14)\n",
    "    plt.show()"
   ]
  },
  {
   "cell_type": "code",
   "execution_count": 594,
   "metadata": {},
   "outputs": [],
   "source": [
    "def grafico_tres_variaveis(x,legenda1,y,legenda2,marcador,titulo):\n",
    "    fig,varx = plt.subplots()\n",
    "    eixo_x = []\n",
    "    eixo_y = []\n",
    "    m = []\n",
    "    for i in x:\n",
    "        eixo_x.append(i)\n",
    "    for i in y: \n",
    "        eixo_y.append(i)\n",
    "    for i in marcador:\n",
    "        m.append(i)\n",
    "        \n",
    "    # Cria eixo x para produto A e produto B com uma separação de 0.25 entre as barras\n",
    "    x1 =  np.arange(len(eixo_x))\n",
    "    x2 = [x + 0.25 for x in x1]\n",
    "\n",
    "    # Plota as barras\n",
    "    plt.bar(x1, eixo_x, width=0.25, label = legenda1, color = 'b')\n",
    "    plt.bar(x2, eixo_y, width=0.25, label = legenda2, color = 'y')\n",
    "\n",
    "    # coloca o nome dos meses como label do eixo x\n",
    "    plt.xticks([x + 0.25 for x in range(len(eixo_x))], m)\n",
    "    \n",
    "    # inseri uma legenda no gráfico\n",
    "    plt.legend()\n",
    "    plt.title(titulo)\n",
    "    plt.show()\n",
    "    "
   ]
  },
  {
   "cell_type": "code",
   "execution_count": 495,
   "metadata": {},
   "outputs": [],
   "source": []
  },
  {
   "cell_type": "code",
   "execution_count": 415,
   "metadata": {},
   "outputs": [],
   "source": []
  },
  {
   "cell_type": "markdown",
   "metadata": {},
   "source": [
    "### Coleta de Dados:"
   ]
  },
  {
   "cell_type": "markdown",
   "metadata": {},
   "source": [
    "Dando início à coleta de dados, as informações foram extraídas dos arquivos disponibilizados pela ANTT referente à acidentes, rodovias, postos das rodovias federais, informações dos terrenos e dos radares. \n",
    "Cada dataset foi separado por entidades para melhor manuseio das informações das rodovias."
   ]
  },
  {
   "cell_type": "code",
   "execution_count": 487,
   "metadata": {},
   "outputs": [],
   "source": [
    "DIRETORIO = os.path.join(os.getcwd(),'..','files')\n",
    "\n",
    "\n",
    "### Acidentes\n",
    "# Foi necessário agrupar 24 arquivos CSV pois a ANTT dividiu todos os acidentes por concessionária.\n",
    "all_files = glob.glob(os.path.join(DIRETORIO,'acidentes_antt') + \"/*.csv\")\n",
    "\n",
    "li = []\n",
    "#columns_types = {'data': str, 'n_da_ocorrencia': str, 'tipo_de_ocorrencia': str, 'trecho': str, 'tipo_de_acidente': str}\n",
    "\n",
    "for filename in all_files:\n",
    "    \n",
    "    df = pd.read_csv(filename, index_col=None, header=0, delimiter = \";\", encoding=\"iso8859-1\", low_memory = False)\n",
    "    li.append(df)\n",
    "\n",
    "df_acidentes = pd.concat(li, axis=0, ignore_index=True)\n",
    "\n",
    "### Radar\n",
    "df_radar = pd.read_csv(os.path.join(DIRETORIO,'radar','dados_dos_radares.csv'), encoding=\"iso8859-1\",delimiter = \";\", low_memory = False)\n",
    "\n",
    "### Terreno\n",
    "df_terreno = pd.read_csv(os.path.join(DIRETORIO,'terreno','dados_perfil_do_terreno.csv'), encoding=\"iso8859-1\",delimiter = \";\", low_memory = False)\n",
    "\n",
    "### Postos PRF\n",
    "df_postos_prf = pd.read_csv(os.path.join(DIRETORIO,'posto_prf','dados_dos_postos_prfs.csv'), encoding=\"iso8859-1\",delimiter = \";\", low_memory = False)\n",
    "\n"
   ]
  },
  {
   "cell_type": "code",
   "execution_count": null,
   "metadata": {},
   "outputs": [],
   "source": []
  },
  {
   "cell_type": "markdown",
   "metadata": {},
   "source": [
    "### Tratamento de Dados:"
   ]
  },
  {
   "cell_type": "markdown",
   "metadata": {},
   "source": [
    "1. Tratando Inconsistências:\n",
    "\n",
    "Pela natureza do dataset, muitos dados são manuais e precisam ser tratados e agrupados. Foram criados novas colunas no dataset de Acidentes e no dataset de Terrenos (UF e Rodovia) e foram feitos replaces na coluna de TIPO_DE_OCORRENCIA dos acidentes que descreve o tipo de acidente ocorrido. Muitas descrições não estão padronizadas, essa sessão tem o intuito de remover as inconsistências causadas por dados manuais."
   ]
  },
  {
   "cell_type": "code",
   "execution_count": 522,
   "metadata": {},
   "outputs": [],
   "source": [
    "## Criar as colunas Rodovia e UF no dataset de Acidentes.\n",
    "df_acidentes['rodovia'] = df_acidentes.trecho\n",
    "df_acidentes[['rodovia','uf']] = df_acidentes['rodovia'].str.split('/',expand=True)\n",
    "\n",
    "## Criar as colunas Rodovia e UF no dataset de Terrenos.\n",
    "df_terreno['rodovia'] = df_terreno.rodovia_uf\n",
    "df_terreno[['rodovia','uf']] = df_terreno['rodovia'].str.split('/',expand=True)\n",
    "\n",
    "## Criar campo de ano e mês no dataset de Acidentes\n",
    "df_acidentes['data']= pd.to_datetime(df['data']) \n",
    "df_acidentes['ano'] = df_acidentes['data'].dt.year \n",
    "df_acidentes['mes'] = df_acidentes['data'].dt.month \n",
    "\n",
    "### Replace:\n",
    "# Rodovias:\n",
    "df_acidentes['rodovia'].replace('Retão', 'BR-116',inplace=True)\n",
    "df_acidentes['rodovia'].replace('Contorno', 'BR-101',inplace=True)\n",
    "df_acidentes['rodovia'].replace('CONTORNO', 'BR-101',inplace=True)\n",
    "df_terreno['rodovia'].replace('Contorno','BR-101',inplace=True)\n",
    "df_terreno['rodovia'].replace('Contorno de Iconha','BR-101',inplace=True)\n",
    "df_terreno['rodovia'].replace('Contorno de Uberlândia','BR-365',inplace=True)\n",
    "df_terreno['rodovia'].replace('CONTORNO NORTE  - FS - 324','BR-324',inplace=True)\n",
    "\n",
    "# UF\n",
    "df_acidentes['uf'].replace('BA - ContSuFS','BA',inplace=True)\n",
    "df_acidentes['uf'].replace('BA - Cont VC','BA',inplace=True)\n",
    "df_acidentes['uf'].replace('ES (Contorno de Vitória)','ES',inplace=True)\n",
    "df_acidentes['uf'].replace('ES (Contorno de Iconha)','ES',inplace=True)\n",
    "df_acidentes['uf'].replace('ES (Contorno Iconha)','ES',inplace=True)\n",
    "\n",
    "# Tipo de Ocorrencia:\n",
    "df_acidentes['tipo_de_ocorrencia'].replace('sem vítima', 'Acidente sem vitima',inplace=True)\n",
    "df_acidentes['tipo_de_ocorrencia'].replace('Acidente sem vítima', 'Acidente sem vitima',inplace=True)\n",
    "df_acidentes['tipo_de_ocorrencia'].replace('ASV - Acidente SEM Vítima', 'Acidente sem vitima',inplace=True)\n",
    "df_acidentes['tipo_de_ocorrencia'].replace('ac03 - Acidente sem Vitimas', 'Acidente sem vitima',inplace=True)\n",
    "df_acidentes['tipo_de_ocorrencia'].replace('Sem vítima', 'Acidente sem vitima',inplace=True)\n",
    "df_acidentes['tipo_de_ocorrencia'].replace('Acidente sem Vítimas', 'Acidente sem vitima',inplace=True)\n",
    "df_acidentes['tipo_de_ocorrencia'].replace('Acidente sem Vítima', 'Acidente sem vitima',inplace=True)\n",
    "df_acidentes['tipo_de_ocorrencia'].replace('Acidente sem VITIMA', 'Acidente sem vitima',inplace=True)\n",
    "df_acidentes['tipo_de_ocorrencia'].replace('AC3 - Acidente sem VITIMA', 'Acidente sem vitima',inplace=True)\n",
    "df_acidentes['tipo_de_ocorrencia'].replace('Acidente sem vítima - TRECHO CONTORNO', 'Acidente sem vitima',inplace=True)\n",
    "df_acidentes['tipo_de_ocorrencia'].replace('Acidente sem Vítima - TRECHO CONTORNO', 'Acidente sem vitima',inplace=True)\n",
    "df_acidentes['tipo_de_ocorrencia'].replace('Acidente sem Vítima', 'Acidente sem vitima',inplace=True)\n",
    "df_acidentes['tipo_de_ocorrencia'].replace('AC03 - ACIDENTE SEM VÍTIMA', 'Acidente sem vitima',inplace=True)\n",
    "df_acidentes['tipo_de_ocorrencia'].replace('AC03 - Acidente sem VITIMA', 'Acidente sem vitima',inplace=True)\n",
    "\n",
    "\n",
    "df_acidentes['tipo_de_ocorrencia'].replace('com vítima', 'Acidente com vitima',inplace=True)\n",
    "df_acidentes['tipo_de_ocorrencia'].replace('Acidente com Vítima', 'Acidente com vitima',inplace=True)\n",
    "df_acidentes['tipo_de_ocorrencia'].replace('Acidente com vítima', 'Acidente com vitima',inplace=True)\n",
    "df_acidentes['tipo_de_ocorrencia'].replace('2 - Acidente com VITIMA', 'Acidente com vitima',inplace=True)\n",
    "df_acidentes['tipo_de_ocorrencia'].replace('AV - Acidente com VITIMA', 'Acidente com vitima',inplace=True)\n",
    "df_acidentes['tipo_de_ocorrencia'].replace('ac02 - Acidente com VITIMA', 'Acidente com vitima',inplace=True)\n",
    "df_acidentes['tipo_de_ocorrencia'].replace('Com vítima', 'Acidente com vitima',inplace=True)\n",
    "df_acidentes['tipo_de_ocorrencia'].replace('Acidente COM VITIMA', 'Acidente com vitima',inplace=True)\n",
    "df_acidentes['tipo_de_ocorrencia'].replace('Acidente com Vítimas', 'Acidente com vitima',inplace=True)\n",
    "df_acidentes['tipo_de_ocorrencia'].replace('2- Acidente com VITIMA', 'Acidente com vitima',inplace=True)\n",
    "df_acidentes['tipo_de_ocorrencia'].replace('ac02 - Acidente com Vítima', 'Acidente com vitima',inplace=True)\n",
    "df_acidentes['tipo_de_ocorrencia'].replace(' 2- Acidente com VITIMA', 'Acidente com vitima',inplace=True)\n",
    "df_acidentes['tipo_de_ocorrencia'].replace('Acidente com VITIMA', 'Acidente com vitima',inplace=True)\n",
    "df_acidentes['tipo_de_ocorrencia'].replace('ac03 - Acidente com vítima ilesa', 'Acidente com vitima',inplace=True)\n",
    "df_acidentes['tipo_de_ocorrencia'].replace('2 - Acidente com Vitima', 'Acidente com vitima',inplace=True)\n",
    "df_acidentes['tipo_de_ocorrencia'].replace('Acidente com vítima - TRECHO CONTORNO', 'Acidente com vitima',inplace=True)\n",
    "df_acidentes['tipo_de_ocorrencia'].replace('Acidente com Vítima - TRECHO CONTORNO', 'Acidente com vitima',inplace=True)\n",
    "df_acidentes['tipo_de_ocorrencia'].replace('AC02 - ACIDENTE COM VÍTIMA', 'Acidente com vitima',inplace=True)\n",
    "df_acidentes['tipo_de_ocorrencia'].replace('3 - Acidente com Vitima Sem Lesão', 'Acidente com vitima',inplace=True)\n",
    "df_acidentes['tipo_de_ocorrencia'].replace('AC02 - Acidente com VITIMA', 'Acidente com vitima',inplace=True)\n",
    "df_acidentes['tipo_de_ocorrencia'].replace('ac02 - Acidente com vítima', 'Acidente com vitima',inplace=True)\n",
    "df_acidentes['tipo_de_ocorrencia'].replace('AC2 - Acidente com VITIMA', 'Acidente com vitima',inplace=True)\n",
    "\n",
    "\n",
    "\n",
    "df_acidentes['tipo_de_ocorrencia'].replace('1 - Acidente com Vitima Fatal', 'Acidente com Vitima Fatal',inplace=True)\n",
    "df_acidentes['tipo_de_ocorrencia'].replace('AF - Acidente com Vitima Fatal', 'Acidente com Vitima Fatal',inplace=True)\n",
    "df_acidentes['tipo_de_ocorrencia'].replace('Acidente com morte', 'Acidente com Vitima Fatal',inplace=True)\n",
    "df_acidentes['tipo_de_ocorrencia'].replace('ac01 - Acidente com Vitima Fatal', 'Acidente com Vitima Fatal',inplace=True)\n",
    "df_acidentes['tipo_de_ocorrencia'].replace('Acidente Fatal', 'Acidente com Vitima Fatal',inplace=True)\n",
    "df_acidentes['tipo_de_ocorrencia'].replace('Acidente fatal', 'Acidente com Vitima Fatal',inplace=True)\n",
    "df_acidentes['tipo_de_ocorrencia'].replace('Acidente com morte - TRECHO CONTORNO', 'Acidente com Vitima Fatal',inplace=True)\n",
    "df_acidentes['tipo_de_ocorrencia'].replace('ac01 - Acidente com vitima fatal', 'Acidente com Vitima Fatal',inplace=True)\n",
    "df_acidentes['tipo_de_ocorrencia'].replace('AC1 - Acidente com VITIMA FATAL', 'Acidente com Vitima Fatal',inplace=True)\n",
    "df_acidentes['tipo_de_ocorrencia'].replace('Acidente com VITIMA FATAL', 'Acidente com Vitima Fatal',inplace=True)\n",
    "\n",
    "df_acidentes['tipo_de_ocorrencia'].replace('Acidente com Morte - TRECHO CONTORNO', 'Acidente com Vitima Fatal',inplace=True)\n",
    "df_acidentes['tipo_de_ocorrencia'].replace('Acidente com Morte', 'Acidente com Vitima Fatal',inplace=True)\n",
    "df_acidentes['tipo_de_ocorrencia'].replace('AC01 - ACIDENTE COM VÍTIMA FATAL', 'Acidente com Vitima Fatal',inplace=True)\n",
    "df_acidentes['tipo_de_ocorrencia'].replace('AC01 - Acidente com VITIMA FATAL', 'Acidente com Vitima Fatal',inplace=True)\n",
    "df_acidentes['tipo_de_ocorrencia'].replace('ac01 - Acidente com Vítima Fatal', 'Acidente com Vitima Fatal',inplace=True)\n",
    "\n",
    "\n",
    "df_acidentes['tipo_de_ocorrencia'].replace('3 - Acidente com Danos Materiais', 'Acidente com Danos Materiais',inplace=True)\n",
    "\n",
    "df_acidentes['tipo_de_ocorrencia'].replace('Atropelamento com morte', 'Atropelamento Fatal',inplace=True)\n",
    "df_acidentes['tipo_de_ocorrencia'].replace('Atropelamento com Morte', 'Atropelamento Fatal',inplace=True)\n",
    "df_acidentes['tipo_de_ocorrencia'].replace('AC05 - Atropelamento Fatal', 'Atropelamento Fatal',inplace=True)\n",
    "\n",
    "df_acidentes['tipo_de_ocorrencia'].replace('Atropelamento sem Morte - TRECHO CONTORNO', 'Atropelamento',inplace=True)\n",
    "df_acidentes['tipo_de_ocorrencia'].replace('AC04 - Atropelamento', 'Atropelamento',inplace=True)\n",
    "df_acidentes['tipo_de_ocorrencia'].replace('Atropelamento sem morte', 'Atropelamento',inplace=True)\n",
    "df_acidentes['tipo_de_ocorrencia'].replace('Atropelamento sem Morte', 'Atropelamento',inplace=True)\n",
    "df_acidentes['tipo_de_ocorrencia'].replace('Atropelamento sem morte - TRECHO CONTORNO', 'Atropelamento',inplace=True)\n",
    "\n",
    "\n",
    "df_acidentes['tipo_de_ocorrencia'].replace('in21 - Suícidio', 'Suícidio',inplace=True)\n",
    "\n",
    "df_acidentes['tipo_de_ocorrencia'].replace('A PP - Acidente envolvendo Produto Perigoso', 'Acidente envolvendo Produto Perigoso',inplace=True)\n",
    "\n",
    "\n",
    "df_acidentes['tipo_de_ocorrencia'].replace('A PPV - Acidente envolvendo Produto Perigoso com vitima', 'Acidente envolvendo Produto Perigoso com vitima',inplace=True)\n",
    "\n",
    "df_acidentes['tipo_de_ocorrencia'].replace('A PPF - Acidente envolvendo Produto Perigoso vitima fatal', 'Acidente envolvendo Produto Perigoso vitima fatal',inplace=True)\n",
    "\n",
    "df_acidentes['tipo_de_ocorrencia'].replace('ac03 - Acidente com Danos Materiais', 'Acidente com Danos Materiais',inplace=True)\n",
    " \n",
    "## Verificando os valores únicos para TIPO_DE_OCORRENCIA\n",
    "# print(df_acidentes['tipo_de_ocorrencia'].unique())"
   ]
  },
  {
   "cell_type": "markdown",
   "metadata": {},
   "source": [
    "2. Removendo valores nulos\n",
    "\n",
    "Removendo valores nulos e preenchendo com valores relevantes para o projeto."
   ]
  },
  {
   "cell_type": "code",
   "execution_count": 501,
   "metadata": {},
   "outputs": [
    {
     "data": {
      "text/plain": [
       "data                               True\n",
       "horario                           False\n",
       "n_da_ocorrencia                   False\n",
       "tipo_de_ocorrencia                 True\n",
       "km                                 True\n",
       "trecho                            False\n",
       "sentido                            True\n",
       "tipo_de_acidente                   True\n",
       "automovel                          True\n",
       "bicicleta                          True\n",
       "caminhao                           True\n",
       "moto                               True\n",
       "onibus                             True\n",
       "outros                             True\n",
       "tracao_animal                      True\n",
       "transporte_de_cargas_especiais     True\n",
       "trator_maquinas                    True\n",
       "utilitarios                        True\n",
       "ilesos                             True\n",
       "levemente_feridos                  True\n",
       "moderadamente_feridos              True\n",
       "gravemente_feridos                 True\n",
       "mortos                             True\n",
       "rodovia                           False\n",
       "uf                                 True\n",
       "ano                                True\n",
       "mes                                True\n",
       "dtype: bool"
      ]
     },
     "execution_count": 501,
     "metadata": {},
     "output_type": "execute_result"
    }
   ],
   "source": [
    "# Identificando valores Nulos em colunas - Acidentes\n",
    "df_acidentes.isna().any()"
   ]
  },
  {
   "cell_type": "code",
   "execution_count": 503,
   "metadata": {},
   "outputs": [],
   "source": [
    "# Preenchendo os valores nulos\n",
    "df_acidentes.data.fillna('00-00-000', inplace=True)\n",
    "df_acidentes.horario.fillna('N/A', inplace=True)\n",
    "df_acidentes.n_da_ocorrencia.fillna(0, inplace=True)\n",
    "df_acidentes.tipo_de_ocorrencia.fillna('Não Informado', inplace=True)\n",
    "df_acidentes.km.fillna(0, inplace=True)\n",
    "df_acidentes.trecho.fillna('Não Informado', inplace=True)\n",
    "df_acidentes.sentido.fillna('N/A', inplace=True)\n",
    "df_acidentes.tipo_de_acidente.fillna('Não Informado', inplace=True)\n",
    "df_acidentes.automovel.fillna(0, inplace=True)\n",
    "df_acidentes.bicicleta.fillna(0, inplace=True)\n",
    "df_acidentes.caminhao.fillna(0, inplace=True)\n",
    "df_acidentes.moto.fillna(0, inplace=True)\n",
    "df_acidentes.onibus.fillna(0, inplace=True)\n",
    "df_acidentes.outros.fillna(0, inplace=True)\n",
    "df_acidentes.tracao_animal.fillna(0, inplace=True)\n",
    "df_acidentes.automovel.fillna(0, inplace=True)\n",
    "df_acidentes.transporte_de_cargas_especiais.fillna(0, inplace=True)\n",
    "df_acidentes.trator_maquinas.fillna(0, inplace=True)\n",
    "df_acidentes.utilitarios.fillna(0, inplace=True)\n",
    "df_acidentes.ilesos.fillna(0, inplace=True)\n",
    "df_acidentes.levemente_feridos.fillna(0, inplace=True)\n",
    "df_acidentes.moderadamente_feridos.fillna(0, inplace=True)\n",
    "df_acidentes.gravemente_feridos.fillna(0, inplace=True)\n",
    "df_acidentes.mortos.fillna(0, inplace=True)\n",
    "df_acidentes.uf.fillna('N/A',inplace=True)\n",
    "df_acidentes.ano.fillna(0,inplace=True)\n",
    "df_acidentes.mes.fillna(0,inplace=True)"
   ]
  },
  {
   "cell_type": "code",
   "execution_count": 504,
   "metadata": {},
   "outputs": [
    {
     "data": {
      "text/plain": [
       "concessionaria        False\n",
       "ano_do_pnv_snv        False\n",
       "tipo_de_radar         False\n",
       "rodovia               False\n",
       "uf                    False\n",
       "km_m                  False\n",
       "municipio             False\n",
       "tipo_pista            False\n",
       "sentido               False\n",
       "situacao              False\n",
       "data_da_inativacao     True\n",
       "latitude              False\n",
       "longitude             False\n",
       "velocidade_leve       False\n",
       "velocidade_pesado     False\n",
       "dtype: bool"
      ]
     },
     "execution_count": 504,
     "metadata": {},
     "output_type": "execute_result"
    }
   ],
   "source": [
    "# Identificando valores Nulos em colunas - Radar\n",
    "df_radar.isna().any()"
   ]
  },
  {
   "cell_type": "code",
   "execution_count": 505,
   "metadata": {},
   "outputs": [],
   "source": [
    "# Preenchendo os valores nulos\n",
    "df_radar.data_da_inativacao.fillna('00-00-000', inplace=True)"
   ]
  },
  {
   "cell_type": "code",
   "execution_count": 424,
   "metadata": {},
   "outputs": [
    {
     "data": {
      "text/plain": [
       "concessionaria            False\n",
       "ano_do_pnv_snv            False\n",
       "rodovia_uf                False\n",
       "tipo_pista                False\n",
       "sentido                   False\n",
       "tipo_perfil_de_terreno    False\n",
       "km_m_inicial              False\n",
       "latitude_inicial          False\n",
       "longitude_inicial         False\n",
       "latitude_final            False\n",
       "km_m_final                False\n",
       "longitude_final           False\n",
       "rodovia                   False\n",
       "uf                        False\n",
       "dtype: bool"
      ]
     },
     "execution_count": 424,
     "metadata": {},
     "output_type": "execute_result"
    }
   ],
   "source": [
    "# Identificando valores Nulos em colunas - Terreno\n",
    "df_terreno.isna().any()"
   ]
  },
  {
   "cell_type": "code",
   "execution_count": 425,
   "metadata": {},
   "outputs": [
    {
     "data": {
      "text/plain": [
       "concessionaria        False\n",
       "nome_posto_prf        False\n",
       "ano_do_pnv_snv        False\n",
       "rodovia               False\n",
       "uf                    False\n",
       "km_m                  False\n",
       "municipio             False\n",
       "tipo_pista            False\n",
       "sentido               False\n",
       "situacao              False\n",
       "data_da_inativacao     True\n",
       "latitude              False\n",
       "longitude             False\n",
       "dtype: bool"
      ]
     },
     "execution_count": 425,
     "metadata": {},
     "output_type": "execute_result"
    }
   ],
   "source": [
    "# Identificando valores Nulos em colunas - Postos PRF\n",
    "df_postos_prf.isna().any()"
   ]
  },
  {
   "cell_type": "code",
   "execution_count": 506,
   "metadata": {},
   "outputs": [],
   "source": [
    "# Preenchendo os valores nulos\n",
    "df_postos_prf.data_da_inativacao.fillna('00-00-000', inplace=True)"
   ]
  },
  {
   "cell_type": "code",
   "execution_count": 560,
   "metadata": {},
   "outputs": [],
   "source": [
    "# Removendo duplicadas considerando todas as colunas\n",
    "\n",
    "df_acidentes.drop_duplicates();\n",
    "df_radar.drop_duplicates();\n",
    "df_terreno.drop_duplicates();\n",
    "df_postos_prf.drop_duplicates();\n"
   ]
  },
  {
   "cell_type": "markdown",
   "metadata": {},
   "source": [
    "3. Exclusão de registros\n",
    "\n",
    "Neste trabalho iremos estudar apenas as rodovias federais do Brasil. Foram encontrados nos dados rodovias fora do escopo.\n",
    "Por esse motivo, o código abaixo filtra  todos os datasets apenas pelas rodovias federais do Brasil."
   ]
  },
  {
   "cell_type": "code",
   "execution_count": 508,
   "metadata": {},
   "outputs": [],
   "source": [
    "df_acidentes = df_acidentes[df_acidentes['rodovia'].str.contains(\"BR\")]\n",
    "df_terreno = df_terreno[df_terreno['rodovia'].str.contains(\"BR\")]\n",
    "df_postos_prf = df_postos_prf[df_postos_prf['rodovia'].str.contains(\"BR\")]"
   ]
  },
  {
   "cell_type": "markdown",
   "metadata": {},
   "source": [
    "Outro filtro necessário são os radares e postos da Polícia Federal ativos:"
   ]
  },
  {
   "cell_type": "code",
   "execution_count": 509,
   "metadata": {},
   "outputs": [],
   "source": [
    "df_radar = df_radar[df_radar['situacao'].str.contains(\"Ativo\")]\n",
    "df_postos_prf = df_postos_prf[df_postos_prf['situacao'].str.contains(\"Ativo\")]"
   ]
  },
  {
   "cell_type": "markdown",
   "metadata": {},
   "source": [
    "### Análise e Exploração dos Dados"
   ]
  },
  {
   "cell_type": "markdown",
   "metadata": {},
   "source": [
    "Para entender melhor o conjunto de dados estudado no presente trabalho, iniciaremos a fase de Análise e Exploração dos dados que visa identificar as principais características dos dados.\n",
    "\n",
    "Com a análise será possível identificar padrões e destacar traços relevantes do assunto trabalhado.\n",
    "\n",
    "Segue abaixo alguns tópicos para essa sessão:\n",
    "1. Quais rodovias possuem mais acidentes por ano?\n",
    "2. Quais rodovias possuem mais acidentes com vítima fatal?\n",
    "3. Quantos radares por rodovia?\n",
    "4. Quantos postos de polícia federal por rodovia?\n",
    "5. Quais tipos de acidentes em cada rodovia?\n",
    "6. Quais tipos de terrenos em cada rodovia?\n",
    "7. Qual a correlação de radares ativos com a quantidade de acidentes em cada rodovia?\n",
    "8. Qual a correlação de terrenos com a quantidade de acidentes em cada rodovia?"
   ]
  },
  {
   "cell_type": "markdown",
   "metadata": {},
   "source": [
    "1. Quais rodovias possuem mais acidentes por ano?"
   ]
  },
  {
   "cell_type": "code",
   "execution_count": 532,
   "metadata": {},
   "outputs": [
    {
     "data": {
      "text/html": [
       "<div>\n",
       "<style scoped>\n",
       "    .dataframe tbody tr th:only-of-type {\n",
       "        vertical-align: middle;\n",
       "    }\n",
       "\n",
       "    .dataframe tbody tr th {\n",
       "        vertical-align: top;\n",
       "    }\n",
       "\n",
       "    .dataframe thead th {\n",
       "        text-align: right;\n",
       "    }\n",
       "</style>\n",
       "<table border=\"1\" class=\"dataframe\">\n",
       "  <thead>\n",
       "    <tr style=\"text-align: right;\">\n",
       "      <th></th>\n",
       "      <th>rodovia</th>\n",
       "      <th>ano</th>\n",
       "      <th>qtd_acidentes</th>\n",
       "    </tr>\n",
       "  </thead>\n",
       "  <tbody>\n",
       "    <tr>\n",
       "      <th>1</th>\n",
       "      <td>BR-393</td>\n",
       "      <td>2020.0</td>\n",
       "      <td>2670</td>\n",
       "    </tr>\n",
       "    <tr>\n",
       "      <th>2</th>\n",
       "      <td>BR-393</td>\n",
       "      <td>2021.0</td>\n",
       "      <td>2444</td>\n",
       "    </tr>\n",
       "    <tr>\n",
       "      <th>0</th>\n",
       "      <td>BR-393</td>\n",
       "      <td>2019.0</td>\n",
       "      <td>1565</td>\n",
       "    </tr>\n",
       "  </tbody>\n",
       "</table>\n",
       "</div>"
      ],
      "text/plain": [
       "  rodovia     ano  qtd_acidentes\n",
       "1  BR-393  2020.0           2670\n",
       "2  BR-393  2021.0           2444\n",
       "0  BR-393  2019.0           1565"
      ]
     },
     "execution_count": 532,
     "metadata": {},
     "output_type": "execute_result"
    }
   ],
   "source": [
    "# Filtrando os acidentes que possuem o ano referenciado\n",
    "df_acidentes_ano = df_acidentes.loc[df_acidentes['ano'] != 0]\n",
    "\n",
    "# Calculando a quantidade de acidentes por ano e mês\n",
    "qtd_acidentes_ano = df_acidentes_ano.groupby(['rodovia','ano']).size().reset_index(name='qtd_acidentes').sort_values(by=['qtd_acidentes'], ascending=False)\n",
    "\n",
    "# Calculando a quantidade de acidentes\n",
    "qtd_acidentes = df_acidentes.groupby(['rodovia']).size().reset_index(name='qtd_acidentes').sort_values(by=['qtd_acidentes'], ascending=False)\n",
    "\n",
    "qtd_acidentes_ano.head()\n"
   ]
  },
  {
   "cell_type": "code",
   "execution_count": null,
   "metadata": {},
   "outputs": [],
   "source": []
  },
  {
   "cell_type": "code",
   "execution_count": null,
   "metadata": {},
   "outputs": [],
   "source": []
  },
  {
   "cell_type": "code",
   "execution_count": null,
   "metadata": {},
   "outputs": [],
   "source": []
  },
  {
   "cell_type": "markdown",
   "metadata": {},
   "source": [
    "2. Quais rodovias possuem mais acidentes com vítima fatal?"
   ]
  },
  {
   "cell_type": "code",
   "execution_count": 542,
   "metadata": {},
   "outputs": [
    {
     "data": {
      "image/png": "[encoded data removed]",
      "text/plain": [
       "<Figure size 432x288 with 1 Axes>"
      ]
     },
     "metadata": {},
     "output_type": "display_data"
    }
   ],
   "source": [
    "qtd_fatal = df_acidentes[df_acidentes['mortos'] != 0].groupby(['rodovia','uf']).size().reset_index(name='mortes').sort_values(by=['mortes'], ascending=False)\n",
    "qtd_fatal = qtd_fatal.head(15)\n",
    "\n",
    "grafico_barras_horizontal(qtd_fatal['rodovia'],qtd_fatal['mortes'],'Mortes Fatais','Mortes Fatais por Rodovia','Rodovias','Acidentes')\n",
    "\n"
   ]
  },
  {
   "cell_type": "code",
   "execution_count": 607,
   "metadata": {},
   "outputs": [
    {
     "data": {
      "image/png": "[encoded data removed]",
      "text/plain": [
       "<Figure size 432x288 with 1 Axes>"
      ]
     },
     "metadata": {},
     "output_type": "display_data"
    }
   ],
   "source": [
    "# Filtrando por acidentes fatais e nao fatais\n",
    "acidentes_fatais= df_acidentes[df_acidentes['tipo_de_ocorrencia'].isin(['Acidente envolvendo Produto Perigoso vitima fatal','Acidente com Vitima Fatal','Atropelamento Fatal'])]\n",
    "acidentes_nao_fatais= df_acidentes[~df_acidentes['tipo_de_ocorrencia'].isin(['Acidente envolvendo Produto Perigoso vitima fatal','Acidente com Vitima Fatal','Atropelamento Fatal'])]\n",
    "\n",
    "# Calculando a quantidade de acidentes fatais\n",
    "qtd_acidentes_fatais = acidentes_fatais.groupby(['rodovia']).size().reset_index(name='qtd_acidentes_fatais').sort_values(by=['qtd_acidentes_fatais'], ascending=False)\n",
    "\n",
    "# Calculando a quantidade de acidentes nao fatais\n",
    "qtd_acidentes_n_fatais = acidentes_nao_fatais.groupby(['rodovia']).size().reset_index(name='qtd_acidentes_n_fatais').sort_values(by=['qtd_acidentes_n_fatais'], ascending=False)\n",
    "\n",
    "    \n",
    "# Merge\n",
    "acidentes_categorizados = pd.merge(qtd_acidentes_fatais, qtd_acidentes_n_fatais, on=[\"rodovia\"], how='left')\n",
    "acidentes_categorizados = acidentes_categorizados.head(5)\n",
    "\n",
    "grafico_tres_variaveis(acidentes_categorizados['qtd_acidentes_fatais'],'Acidentes Fatais',acidentes_categorizados['qtd_acidentes_n_fatais'],'Acidentes Nao Fatais',acidentes_categorizados['rodovia'],'Acidentes fatais e não fatais')\n"
   ]
  },
  {
   "cell_type": "markdown",
   "metadata": {},
   "source": [
    "3. Quantos radares por rodovia?"
   ]
  },
  {
   "cell_type": "code",
   "execution_count": 513,
   "metadata": {},
   "outputs": [
    {
     "data": {
      "image/png": "[encoded data removed]",
      "text/plain": [
       "<Figure size 432x288 with 1 Axes>"
      ]
     },
     "metadata": {},
     "output_type": "display_data"
    }
   ],
   "source": [
    "qtd_radar =df_radar[df_radar['situacao'] == 'Ativo'].groupby(['rodovia','uf']).size().reset_index(name='radar').sort_values(by=['radar'], ascending=False)\n",
    "\n",
    "grafico_dispersao(qtd_radar['rodovia'],qtd_radar['radar'],'Radares Ativos por Rodovia','Rodovia','Quantidade de Radar')"
   ]
  },
  {
   "cell_type": "markdown",
   "metadata": {},
   "source": [
    "4.Quantos postos de polícia federal por rodovia?"
   ]
  },
  {
   "cell_type": "code",
   "execution_count": 514,
   "metadata": {},
   "outputs": [
    {
     "data": {
      "image/png": "[encoded data removed]",
      "text/plain": [
       "<Figure size 432x288 with 1 Axes>"
      ]
     },
     "metadata": {},
     "output_type": "display_data"
    }
   ],
   "source": [
    "qtd_postos =df_postos_prf[df_postos_prf['situacao'] == 'Ativo'].groupby(['rodovia','uf']).size().reset_index(name='postos_prf').sort_values(by=['postos_prf'], ascending=False)\n",
    "qtd_postos.head()\n",
    "\n",
    "grafico_barras_vertical(qtd_postos['rodovia'],qtd_postos['postos_prf'],'Postos Ativos da PRF por rodovia','Rodovia','Postos PRF')"
   ]
  },
  {
   "cell_type": "markdown",
   "metadata": {},
   "source": [
    "5. Quais tipos de acidentes em cada rodovia?"
   ]
  },
  {
   "cell_type": "code",
   "execution_count": 528,
   "metadata": {},
   "outputs": [
    {
     "data": {
      "image/png": "[encoded data removed]",
      "text/plain": [
       "<Figure size 432x288 with 1 Axes>"
      ]
     },
     "metadata": {},
     "output_type": "display_data"
    }
   ],
   "source": [
    "tipo_acidentes_por_rodovia = df_acidentes.groupby(['rodovia','tipo_de_ocorrencia','uf']).size().reset_index(name='qtd_ocorrencias').sort_values(by=['qtd_ocorrencias'], ascending=False)\n",
    "tipo_acidentes_por_rodovia = tipo_acidentes_por_rodovia.head(100)\n",
    "\n",
    "grafico_barras_vertical(tipo_acidentes_por_rodovia['tipo_de_ocorrencia'],tipo_acidentes_por_rodovia['qtd_ocorrencias'],'Tipos de Acidente por Rodovia','Ocorrencias','Tipo de Ocorrencia')"
   ]
  },
  {
   "cell_type": "markdown",
   "metadata": {},
   "source": [
    "6. Quais tipos de terrenos por cada rodovia?"
   ]
  },
  {
   "cell_type": "code",
   "execution_count": 238,
   "metadata": {},
   "outputs": [
    {
     "data": {
      "text/html": [
       "<div>\n",
       "<style scoped>\n",
       "    .dataframe tbody tr th:only-of-type {\n",
       "        vertical-align: middle;\n",
       "    }\n",
       "\n",
       "    .dataframe tbody tr th {\n",
       "        vertical-align: top;\n",
       "    }\n",
       "\n",
       "    .dataframe thead th {\n",
       "        text-align: right;\n",
       "    }\n",
       "</style>\n",
       "<table border=\"1\" class=\"dataframe\">\n",
       "  <thead>\n",
       "    <tr style=\"text-align: right;\">\n",
       "      <th></th>\n",
       "      <th>rodovia</th>\n",
       "      <th>tipo_perfil_de_terreno</th>\n",
       "      <th>uf</th>\n",
       "      <th>qtd_perfil_terreno</th>\n",
       "    </tr>\n",
       "  </thead>\n",
       "  <tbody>\n",
       "    <tr>\n",
       "      <th>19</th>\n",
       "      <td>BR-116</td>\n",
       "      <td>Perfil Ondulado</td>\n",
       "      <td>SC</td>\n",
       "      <td>2190</td>\n",
       "    </tr>\n",
       "    <tr>\n",
       "      <th>9</th>\n",
       "      <td>BR-101</td>\n",
       "      <td>Perfil Plano</td>\n",
       "      <td>RJ</td>\n",
       "      <td>1302</td>\n",
       "    </tr>\n",
       "    <tr>\n",
       "      <th>31</th>\n",
       "      <td>BR-50</td>\n",
       "      <td>Perfil Montanhoso</td>\n",
       "      <td>MG</td>\n",
       "      <td>1225</td>\n",
       "    </tr>\n",
       "    <tr>\n",
       "      <th>16</th>\n",
       "      <td>BR-116</td>\n",
       "      <td>Perfil Ondulado</td>\n",
       "      <td>PR</td>\n",
       "      <td>776</td>\n",
       "    </tr>\n",
       "    <tr>\n",
       "      <th>34</th>\n",
       "      <td>BR-50</td>\n",
       "      <td>Perfil Plano</td>\n",
       "      <td>GO</td>\n",
       "      <td>733</td>\n",
       "    </tr>\n",
       "  </tbody>\n",
       "</table>\n",
       "</div>"
      ],
      "text/plain": [
       "   rodovia tipo_perfil_de_terreno  uf  qtd_perfil_terreno\n",
       "19  BR-116        Perfil Ondulado  SC                2190\n",
       "9   BR-101           Perfil Plano  RJ                1302\n",
       "31   BR-50      Perfil Montanhoso  MG                1225\n",
       "16  BR-116        Perfil Ondulado  PR                 776\n",
       "34   BR-50           Perfil Plano  GO                 733"
      ]
     },
     "execution_count": 238,
     "metadata": {},
     "output_type": "execute_result"
    }
   ],
   "source": [
    "tipo_terreno_por_rodovia =df_terreno.groupby(['rodovia','tipo_perfil_de_terreno','uf']).size().reset_index(name='qtd_perfil_terreno').sort_values(by=['qtd_perfil_terreno'], ascending=False)\n",
    "tipo_terreno_por_rodovia.head()"
   ]
  },
  {
   "cell_type": "markdown",
   "metadata": {},
   "source": [
    "7. Qual a correlação de radares ativos com a quantidade de acidentes em cada rodovia?"
   ]
  },
  {
   "cell_type": "code",
   "execution_count": null,
   "metadata": {},
   "outputs": [],
   "source": []
  },
  {
   "cell_type": "code",
   "execution_count": 239,
   "metadata": {},
   "outputs": [
    {
     "name": "stdout",
     "output_type": "stream",
     "text": [
      "Empty DataFrame\n",
      "Columns: [rodovia, uf, radar, ano, mes, qtd_acidentes]\n",
      "Index: []\n"
     ]
    }
   ],
   "source": [
    "results_radar = pd.merge(qtd_radar, qtd_acidentes, on=[\"rodovia\",\"uf\"], how='inner')\n",
    "\n",
    "print(results_radar.head())"
   ]
  },
  {
   "cell_type": "markdown",
   "metadata": {},
   "source": [
    "8. Qual a correlação dos Terrenos nas rodovias com a quantidade de acidente?"
   ]
  },
  {
   "cell_type": "code",
   "execution_count": 254,
   "metadata": {},
   "outputs": [
    {
     "name": "stdout",
     "output_type": "stream",
     "text": [
      "   rodovia tipo_perfil_de_terreno  uf  qtd_perfil_terreno  qtd_acidentes\n",
      "0   BR-116        Perfil Ondulado  SC                2190          10696\n",
      "1   BR-116      Perfil Montanhoso  SC                 280          10696\n",
      "2   BR-116           Perfil Plano  SC                 274          10696\n",
      "3   BR-101           Perfil Plano  RJ                1302          45443\n",
      "4   BR-101        Perfil Ondulado  RJ                 330          45443\n",
      "5   BR-101      Perfil Montanhoso  RJ                 110          45443\n",
      "6   BR-116        Perfil Ondulado  PR                 776          77347\n",
      "7   BR-116      Perfil Montanhoso  PR                 221          77347\n",
      "8   BR-116           Perfil Plano  PR                 104          77347\n",
      "9   BR-101        Perfil Ondulado  ES                 536          31546\n",
      "10  BR-101      Perfil Montanhoso  ES                  34          31546\n",
      "11  BR-101           Perfil Plano  ES                   4          31546\n",
      "12  BR-101           Perfil Plano  RS                 469            775\n",
      "13  BR-116           Perfil Plano  SP                 396          73031\n",
      "14  BR-116      Perfil Montanhoso  SP                 102          73031\n",
      "15  BR-116        Perfil Ondulado  SP                  99          73031\n",
      "16  BR-116           Perfil Plano  RJ                 340          65162\n",
      "17  BR-116        Perfil Ondulado  RJ                 273          65162\n",
      "18  BR-116      Perfil Montanhoso  RJ                 257          65162\n",
      "19  BR-116        Perfil Ondulado  RS                 116           3540\n",
      "20  BR-116           Perfil Plano  RS                   6           3540\n",
      "21  BR-365      Perfil Montanhoso  MG                 110            520\n",
      "22  BR-365           Perfil Plano  MG                  68            520\n",
      "23  BR-365        Perfil Ondulado  MG                  16            520\n",
      "24  BR-116        Perfil Ondulado  BA                 107          18008\n",
      "25  BR-101        Perfil Ondulado  BA                  18            292\n",
      "26  BR-324        Perfil Ondulado  BA                   1          21257\n"
     ]
    }
   ],
   "source": [
    "df_terreno_teste = tipo_terreno_por_rodovia.drop_duplicates(subset=['rodovia','uf','tipo_perfil_de_terreno'])\n",
    "df_acidentes_teste = qtd_acidentes.drop_duplicates(subset=['rodovia','uf'])\n",
    "\n",
    "results_terrenos = pd.merge(df_terreno_teste, df_acidentes_teste, on=[\"rodovia\",\"uf\"], how='inner')\n",
    "print(results_terrenos.head(100))"
   ]
  },
  {
   "cell_type": "code",
   "execution_count": null,
   "metadata": {},
   "outputs": [],
   "source": []
  },
  {
   "cell_type": "code",
   "execution_count": null,
   "metadata": {},
   "outputs": [],
   "source": []
  },
  {
   "cell_type": "code",
   "execution_count": null,
   "metadata": {},
   "outputs": [],
   "source": []
  },
  {
   "cell_type": "code",
   "execution_count": null,
   "metadata": {},
   "outputs": [],
   "source": []
  },
  {
   "cell_type": "code",
   "execution_count": null,
   "metadata": {},
   "outputs": [],
   "source": []
  },
  {
   "cell_type": "markdown",
   "metadata": {},
   "source": [
    "Tipo de veículo envolvido nos acidentes"
   ]
  },
  {
   "cell_type": "markdown",
   "metadata": {},
   "source": [
    "Tipo de acidentes por rodovia"
   ]
  },
  {
   "cell_type": "markdown",
   "metadata": {},
   "source": [
    "#### Testes de hipotese e intervalos de confianca"
   ]
  },
  {
   "cell_type": "markdown",
   "metadata": {},
   "source": [
    "Teste Qui-quadrado para homogeneidade"
   ]
  },
  {
   "cell_type": "markdown",
   "metadata": {},
   "source": [
    "Ho -> não há diferença de acidentes fatais e não fatais entre automóveis e bicicletas\n",
    "Ha -> \n",
    "\n",
    "Amostra aleatória dentro do dataset de acidentes e terreno.\n"
   ]
  },
  {
   "cell_type": "code",
   "execution_count": 350,
   "metadata": {},
   "outputs": [
    {
     "data": {
      "text/html": [
       "<div>\n",
       "<style scoped>\n",
       "    .dataframe tbody tr th:only-of-type {\n",
       "        vertical-align: middle;\n",
       "    }\n",
       "\n",
       "    .dataframe tbody tr th {\n",
       "        vertical-align: top;\n",
       "    }\n",
       "\n",
       "    .dataframe thead th {\n",
       "        text-align: right;\n",
       "    }\n",
       "</style>\n",
       "<table border=\"1\" class=\"dataframe\">\n",
       "  <thead>\n",
       "    <tr style=\"text-align: right;\">\n",
       "      <th></th>\n",
       "      <th>rodovia</th>\n",
       "      <th>uf</th>\n",
       "      <th>qtd_acidentes_fatais</th>\n",
       "    </tr>\n",
       "  </thead>\n",
       "  <tbody>\n",
       "    <tr>\n",
       "      <th>5</th>\n",
       "      <td>BR-101</td>\n",
       "      <td>ES</td>\n",
       "      <td>60</td>\n",
       "    </tr>\n",
       "    <tr>\n",
       "      <th>1</th>\n",
       "      <td>BR-040</td>\n",
       "      <td>MG</td>\n",
       "      <td>19</td>\n",
       "    </tr>\n",
       "    <tr>\n",
       "      <th>14</th>\n",
       "      <td>BR-116</td>\n",
       "      <td>SP</td>\n",
       "      <td>18</td>\n",
       "    </tr>\n",
       "    <tr>\n",
       "      <th>6</th>\n",
       "      <td>BR-101</td>\n",
       "      <td>RJ</td>\n",
       "      <td>12</td>\n",
       "    </tr>\n",
       "    <tr>\n",
       "      <th>7</th>\n",
       "      <td>BR-101</td>\n",
       "      <td>SC</td>\n",
       "      <td>12</td>\n",
       "    </tr>\n",
       "  </tbody>\n",
       "</table>\n",
       "</div>"
      ],
      "text/plain": [
       "   rodovia  uf  qtd_acidentes_fatais\n",
       "5   BR-101  ES                    60\n",
       "1   BR-040  MG                    19\n",
       "14  BR-116  SP                    18\n",
       "6   BR-101  RJ                    12\n",
       "7   BR-101  SC                    12"
      ]
     },
     "execution_count": 350,
     "metadata": {},
     "output_type": "execute_result"
    }
   ],
   "source": [
    "# Calculando a quantidade de acidentes fatais\n",
    "\n",
    "acidentes_fatais_automovel = acidentes_fatais.loc[(acidentes_fatais['automovel'] != 0) & (acidentes_fatais['mortos'] != 0)]\n",
    "acidentes_fatais_bicleta = acidentes_fatais.loc[(acidentes_fatais['bicicleta'] != 0) & (acidentes_fatais['mortos'] != 0)]\n",
    "qtd_acidentes_fatais_automovel = acidentes_fatais_automovel.groupby(['rodovia','uf']).size().reset_index(name='qtd_acidentes_fatais').sort_values(by=['qtd_acidentes_fatais'], ascending=False)\n",
    "qtd_acidentes_fatais_bicicleta = acidentes_fatais_bicleta.groupby(['rodovia','uf']).size().reset_index(name='qtd_acidentes_fatais').sort_values(by=['qtd_acidentes_fatais'], ascending=False)\n",
    "\n",
    "# Calculando a quantidade de acidentes nao fatais\n",
    "acidentes_n_fatais_automovel = acidentes_nao_fatais.loc[(acidentes_nao_fatais['automovel'] != 0) & (acidentes_fatais['mortos'] == 0)]\n",
    "acidentes_n_fatais_bicleta = acidentes_nao_fatais.loc[(acidentes_nao_fatais['bicicleta'] != 0) & (acidentes_fatais['mortos'] == 0)]\n",
    "qtd_acidentes_n_fatais_automovel = acidentes_n_fatais_automovel.groupby(['rodovia','uf']).size().reset_index(name='qtd_acidentes_n_fatais').sort_values(by=['qtd_acidentes_n_fatais'], ascending=False)\n",
    "qtd_acidentes_n_fatais_bicicleta = acidentes_n_fatais_bicleta.groupby(['rodovia','uf']).size().reset_index(name='qtd_acidentes_n_fatais').sort_values(by=['qtd_acidentes_n_fatais'], ascending=False)\n",
    "\n",
    "# Merge de acidentes fatais e nao fatais - Bicicleta\n",
    "qtd_acidentes_fatais_bicicleta.head()\n",
    "\n",
    "# Merge de acidentes fatais e nao fatais - Automovél"
   ]
  },
  {
   "cell_type": "code",
   "execution_count": 335,
   "metadata": {},
   "outputs": [
    {
     "data": {
      "text/html": [
       "<div>\n",
       "<style scoped>\n",
       "    .dataframe tbody tr th:only-of-type {\n",
       "        vertical-align: middle;\n",
       "    }\n",
       "\n",
       "    .dataframe tbody tr th {\n",
       "        vertical-align: top;\n",
       "    }\n",
       "\n",
       "    .dataframe thead th {\n",
       "        text-align: right;\n",
       "    }\n",
       "</style>\n",
       "<table border=\"1\" class=\"dataframe\">\n",
       "  <thead>\n",
       "    <tr style=\"text-align: right;\">\n",
       "      <th></th>\n",
       "      <th>rodovia</th>\n",
       "      <th>uf</th>\n",
       "      <th>qtd_acidentes_fatais</th>\n",
       "    </tr>\n",
       "  </thead>\n",
       "  <tbody>\n",
       "    <tr>\n",
       "      <th>5</th>\n",
       "      <td>BR-101</td>\n",
       "      <td>ES</td>\n",
       "      <td>60</td>\n",
       "    </tr>\n",
       "    <tr>\n",
       "      <th>1</th>\n",
       "      <td>BR-040</td>\n",
       "      <td>MG</td>\n",
       "      <td>19</td>\n",
       "    </tr>\n",
       "    <tr>\n",
       "      <th>14</th>\n",
       "      <td>BR-116</td>\n",
       "      <td>SP</td>\n",
       "      <td>18</td>\n",
       "    </tr>\n",
       "    <tr>\n",
       "      <th>6</th>\n",
       "      <td>BR-101</td>\n",
       "      <td>RJ</td>\n",
       "      <td>12</td>\n",
       "    </tr>\n",
       "    <tr>\n",
       "      <th>7</th>\n",
       "      <td>BR-101</td>\n",
       "      <td>SC</td>\n",
       "      <td>12</td>\n",
       "    </tr>\n",
       "  </tbody>\n",
       "</table>\n",
       "</div>"
      ],
      "text/plain": [
       "   rodovia  uf  qtd_acidentes_fatais\n",
       "5   BR-101  ES                    60\n",
       "1   BR-040  MG                    19\n",
       "14  BR-116  SP                    18\n",
       "6   BR-101  RJ                    12\n",
       "7   BR-101  SC                    12"
      ]
     },
     "execution_count": 335,
     "metadata": {},
     "output_type": "execute_result"
    }
   ],
   "source": [
    "qtd_acidentes_fatais_bicicleta.head()"
   ]
  },
  {
   "cell_type": "code",
   "execution_count": 300,
   "metadata": {},
   "outputs": [
    {
     "data": {
      "text/html": [
       "<div>\n",
       "<style scoped>\n",
       "    .dataframe tbody tr th:only-of-type {\n",
       "        vertical-align: middle;\n",
       "    }\n",
       "\n",
       "    .dataframe tbody tr th {\n",
       "        vertical-align: top;\n",
       "    }\n",
       "\n",
       "    .dataframe thead th {\n",
       "        text-align: right;\n",
       "    }\n",
       "</style>\n",
       "<table border=\"1\" class=\"dataframe\">\n",
       "  <thead>\n",
       "    <tr style=\"text-align: right;\">\n",
       "      <th></th>\n",
       "      <th>rodovia</th>\n",
       "      <th>tipo_perfil_de_terreno</th>\n",
       "      <th>uf</th>\n",
       "      <th>qtd_perfil_terreno</th>\n",
       "      <th>qtd_acidentes_n_fatais</th>\n",
       "      <th>qtd_acidentes_fatais</th>\n",
       "    </tr>\n",
       "  </thead>\n",
       "  <tbody>\n",
       "    <tr>\n",
       "      <th>2</th>\n",
       "      <td>BR-116</td>\n",
       "      <td>Perfil Plano</td>\n",
       "      <td>SC</td>\n",
       "      <td>274</td>\n",
       "      <td>10673</td>\n",
       "      <td>23</td>\n",
       "    </tr>\n",
       "    <tr>\n",
       "      <th>8</th>\n",
       "      <td>BR-116</td>\n",
       "      <td>Perfil Plano</td>\n",
       "      <td>PR</td>\n",
       "      <td>104</td>\n",
       "      <td>77298</td>\n",
       "      <td>49</td>\n",
       "    </tr>\n",
       "    <tr>\n",
       "      <th>13</th>\n",
       "      <td>BR-116</td>\n",
       "      <td>Perfil Plano</td>\n",
       "      <td>SP</td>\n",
       "      <td>396</td>\n",
       "      <td>72845</td>\n",
       "      <td>186</td>\n",
       "    </tr>\n",
       "    <tr>\n",
       "      <th>16</th>\n",
       "      <td>BR-116</td>\n",
       "      <td>Perfil Plano</td>\n",
       "      <td>RJ</td>\n",
       "      <td>340</td>\n",
       "      <td>65061</td>\n",
       "      <td>101</td>\n",
       "    </tr>\n",
       "    <tr>\n",
       "      <th>20</th>\n",
       "      <td>BR-116</td>\n",
       "      <td>Perfil Plano</td>\n",
       "      <td>RS</td>\n",
       "      <td>6</td>\n",
       "      <td>3522</td>\n",
       "      <td>18</td>\n",
       "    </tr>\n",
       "  </tbody>\n",
       "</table>\n",
       "</div>"
      ],
      "text/plain": [
       "   rodovia tipo_perfil_de_terreno  uf  qtd_perfil_terreno  \\\n",
       "2   BR-116           Perfil Plano  SC                 274   \n",
       "8   BR-116           Perfil Plano  PR                 104   \n",
       "13  BR-116           Perfil Plano  SP                 396   \n",
       "16  BR-116           Perfil Plano  RJ                 340   \n",
       "20  BR-116           Perfil Plano  RS                   6   \n",
       "\n",
       "    qtd_acidentes_n_fatais  qtd_acidentes_fatais  \n",
       "2                    10673                    23  \n",
       "8                    77298                    49  \n",
       "13                   72845                   186  \n",
       "16                   65061                   101  \n",
       "20                    3522                    18  "
      ]
     },
     "execution_count": 300,
     "metadata": {},
     "output_type": "execute_result"
    }
   ],
   "source": [
    "# Filtrando apenas por Perfil Montanhoso \n",
    "perfil_montanhoso= acidentes_e_terrenos[acidentes_e_terrenos['tipo_perfil_de_terreno'] == 'Perfil Montanhoso']\n",
    "perfil_montanhoso.drop(columns=['uf'])\n",
    "\n",
    "# Filtrando apenas por Perfil Plano \n",
    "perfil_plano = acidentes_e_terrenos[acidentes_e_terrenos['tipo_perfil_de_terreno'] == 'Perfil Plano']\n",
    "perfil_plano.drop(columns=['uf'])\n",
    "\n",
    "perfil_plano.head()\n"
   ]
  },
  {
   "cell_type": "markdown",
   "metadata": {},
   "source": [
    "Tabela de Valor Esperado:"
   ]
  },
  {
   "cell_type": "code",
   "execution_count": 301,
   "metadata": {
    "scrolled": true
   },
   "outputs": [
    {
     "data": {
      "text/html": [
       "<div>\n",
       "<style scoped>\n",
       "    .dataframe tbody tr th:only-of-type {\n",
       "        vertical-align: middle;\n",
       "    }\n",
       "\n",
       "    .dataframe tbody tr th {\n",
       "        vertical-align: top;\n",
       "    }\n",
       "\n",
       "    .dataframe thead th {\n",
       "        text-align: right;\n",
       "    }\n",
       "</style>\n",
       "<table border=\"1\" class=\"dataframe\">\n",
       "  <thead>\n",
       "    <tr style=\"text-align: right;\">\n",
       "      <th></th>\n",
       "      <th>rodovia</th>\n",
       "      <th>tipo_perfil_de_terreno</th>\n",
       "      <th>uf</th>\n",
       "      <th>qtd_perfil_terreno</th>\n",
       "      <th>qtd_acidentes_n_fatais</th>\n",
       "      <th>qtd_acidentes_fatais</th>\n",
       "    </tr>\n",
       "  </thead>\n",
       "  <tbody>\n",
       "    <tr>\n",
       "      <th>1</th>\n",
       "      <td>BR-116</td>\n",
       "      <td>Perfil Montanhoso</td>\n",
       "      <td>SC</td>\n",
       "      <td>280</td>\n",
       "      <td>10673</td>\n",
       "      <td>23</td>\n",
       "    </tr>\n",
       "    <tr>\n",
       "      <th>7</th>\n",
       "      <td>BR-116</td>\n",
       "      <td>Perfil Montanhoso</td>\n",
       "      <td>PR</td>\n",
       "      <td>221</td>\n",
       "      <td>77298</td>\n",
       "      <td>49</td>\n",
       "    </tr>\n",
       "    <tr>\n",
       "      <th>14</th>\n",
       "      <td>BR-116</td>\n",
       "      <td>Perfil Montanhoso</td>\n",
       "      <td>SP</td>\n",
       "      <td>102</td>\n",
       "      <td>72845</td>\n",
       "      <td>186</td>\n",
       "    </tr>\n",
       "    <tr>\n",
       "      <th>18</th>\n",
       "      <td>BR-116</td>\n",
       "      <td>Perfil Montanhoso</td>\n",
       "      <td>RJ</td>\n",
       "      <td>257</td>\n",
       "      <td>65061</td>\n",
       "      <td>101</td>\n",
       "    </tr>\n",
       "  </tbody>\n",
       "</table>\n",
       "</div>"
      ],
      "text/plain": [
       "   rodovia tipo_perfil_de_terreno  uf  qtd_perfil_terreno  \\\n",
       "1   BR-116      Perfil Montanhoso  SC                 280   \n",
       "7   BR-116      Perfil Montanhoso  PR                 221   \n",
       "14  BR-116      Perfil Montanhoso  SP                 102   \n",
       "18  BR-116      Perfil Montanhoso  RJ                 257   \n",
       "\n",
       "    qtd_acidentes_n_fatais  qtd_acidentes_fatais  \n",
       "1                    10673                    23  \n",
       "7                    77298                    49  \n",
       "14                   72845                   186  \n",
       "18                   65061                   101  "
      ]
     },
     "execution_count": 301,
     "metadata": {},
     "output_type": "execute_result"
    }
   ],
   "source": [
    "perfil_montanhoso.head()"
   ]
  },
  {
   "cell_type": "code",
   "execution_count": 324,
   "metadata": {},
   "outputs": [
    {
     "data": {
      "text/html": [
       "<div>\n",
       "<style scoped>\n",
       "    .dataframe tbody tr th:only-of-type {\n",
       "        vertical-align: middle;\n",
       "    }\n",
       "\n",
       "    .dataframe tbody tr th {\n",
       "        vertical-align: top;\n",
       "    }\n",
       "\n",
       "    .dataframe thead th {\n",
       "        text-align: right;\n",
       "    }\n",
       "</style>\n",
       "<table border=\"1\" class=\"dataframe\">\n",
       "  <thead>\n",
       "    <tr style=\"text-align: right;\">\n",
       "      <th></th>\n",
       "      <th>data</th>\n",
       "      <th>horario</th>\n",
       "      <th>n_da_ocorrencia</th>\n",
       "      <th>tipo_de_ocorrencia</th>\n",
       "      <th>km</th>\n",
       "      <th>trecho</th>\n",
       "      <th>sentido</th>\n",
       "      <th>tipo_de_acidente</th>\n",
       "      <th>automovel</th>\n",
       "      <th>bicicleta</th>\n",
       "      <th>...</th>\n",
       "      <th>utilitarios</th>\n",
       "      <th>ilesos</th>\n",
       "      <th>levemente_feridos</th>\n",
       "      <th>moderadamente_feridos</th>\n",
       "      <th>gravemente_feridos</th>\n",
       "      <th>mortos</th>\n",
       "      <th>rodovia</th>\n",
       "      <th>uf</th>\n",
       "      <th>ano</th>\n",
       "      <th>mes</th>\n",
       "    </tr>\n",
       "  </thead>\n",
       "  <tbody>\n",
       "    <tr>\n",
       "      <th>0</th>\n",
       "      <td>2019-01-04 00:00:00</td>\n",
       "      <td>04:21:00</td>\n",
       "      <td>18</td>\n",
       "      <td>Acidente sem vitima</td>\n",
       "      <td>167</td>\n",
       "      <td>BR-393/RJ</td>\n",
       "      <td>Norte</td>\n",
       "      <td>Derrapagem</td>\n",
       "      <td>1</td>\n",
       "      <td>0.0</td>\n",
       "      <td>...</td>\n",
       "      <td>0</td>\n",
       "      <td>1</td>\n",
       "      <td>0.0</td>\n",
       "      <td>0.0</td>\n",
       "      <td>0.0</td>\n",
       "      <td>0.0</td>\n",
       "      <td>BR-393</td>\n",
       "      <td>RJ</td>\n",
       "      <td>2019</td>\n",
       "      <td>1</td>\n",
       "    </tr>\n",
       "    <tr>\n",
       "      <th>1</th>\n",
       "      <td>2019-01-04 00:00:00</td>\n",
       "      <td>19:29:00</td>\n",
       "      <td>81</td>\n",
       "      <td>Acidente com vitima</td>\n",
       "      <td>266,4</td>\n",
       "      <td>BR-393/RJ</td>\n",
       "      <td>Sul</td>\n",
       "      <td>Derrapagem</td>\n",
       "      <td>0</td>\n",
       "      <td>0.0</td>\n",
       "      <td>...</td>\n",
       "      <td>0</td>\n",
       "      <td>0</td>\n",
       "      <td>2.0</td>\n",
       "      <td>1.0</td>\n",
       "      <td>0.0</td>\n",
       "      <td>0.0</td>\n",
       "      <td>BR-393</td>\n",
       "      <td>RJ</td>\n",
       "      <td>2019</td>\n",
       "      <td>1</td>\n",
       "    </tr>\n",
       "    <tr>\n",
       "      <th>2</th>\n",
       "      <td>2019-02-04 00:00:00</td>\n",
       "      <td>00:05:00</td>\n",
       "      <td>1</td>\n",
       "      <td>Acidente sem vitima</td>\n",
       "      <td>285,5</td>\n",
       "      <td>BR-393/RJ</td>\n",
       "      <td>Norte</td>\n",
       "      <td>Abalroamento transversal</td>\n",
       "      <td>1</td>\n",
       "      <td>0.0</td>\n",
       "      <td>...</td>\n",
       "      <td>0</td>\n",
       "      <td>2</td>\n",
       "      <td>0.0</td>\n",
       "      <td>0.0</td>\n",
       "      <td>0.0</td>\n",
       "      <td>0.0</td>\n",
       "      <td>BR-393</td>\n",
       "      <td>RJ</td>\n",
       "      <td>2019</td>\n",
       "      <td>2</td>\n",
       "    </tr>\n",
       "    <tr>\n",
       "      <th>3</th>\n",
       "      <td>2019-04-04 00:00:00</td>\n",
       "      <td>13:30:00</td>\n",
       "      <td>66</td>\n",
       "      <td>Acidente sem vitima</td>\n",
       "      <td>129,8</td>\n",
       "      <td>BR-393/RJ</td>\n",
       "      <td>Sul</td>\n",
       "      <td>Colisão traseira</td>\n",
       "      <td>1</td>\n",
       "      <td>0.0</td>\n",
       "      <td>...</td>\n",
       "      <td>1</td>\n",
       "      <td>2</td>\n",
       "      <td>0.0</td>\n",
       "      <td>0.0</td>\n",
       "      <td>0.0</td>\n",
       "      <td>0.0</td>\n",
       "      <td>BR-393</td>\n",
       "      <td>RJ</td>\n",
       "      <td>2019</td>\n",
       "      <td>4</td>\n",
       "    </tr>\n",
       "    <tr>\n",
       "      <th>4</th>\n",
       "      <td>2019-04-04 00:00:00</td>\n",
       "      <td>17:38:00</td>\n",
       "      <td>90</td>\n",
       "      <td>Acidente com vitima</td>\n",
       "      <td>142</td>\n",
       "      <td>BR-393/RJ</td>\n",
       "      <td>Norte</td>\n",
       "      <td>Colisão traseira</td>\n",
       "      <td>0</td>\n",
       "      <td>0.0</td>\n",
       "      <td>...</td>\n",
       "      <td>0</td>\n",
       "      <td>0</td>\n",
       "      <td>2.0</td>\n",
       "      <td>0.0</td>\n",
       "      <td>0.0</td>\n",
       "      <td>0.0</td>\n",
       "      <td>BR-393</td>\n",
       "      <td>RJ</td>\n",
       "      <td>2019</td>\n",
       "      <td>4</td>\n",
       "    </tr>\n",
       "  </tbody>\n",
       "</table>\n",
       "<p>5 rows × 27 columns</p>\n",
       "</div>"
      ],
      "text/plain": [
       "                  data   horario n_da_ocorrencia   tipo_de_ocorrencia     km  \\\n",
       "0  2019-01-04 00:00:00  04:21:00              18  Acidente sem vitima    167   \n",
       "1  2019-01-04 00:00:00  19:29:00              81  Acidente com vitima  266,4   \n",
       "2  2019-02-04 00:00:00  00:05:00               1  Acidente sem vitima  285,5   \n",
       "3  2019-04-04 00:00:00  13:30:00              66  Acidente sem vitima  129,8   \n",
       "4  2019-04-04 00:00:00  17:38:00              90  Acidente com vitima    142   \n",
       "\n",
       "      trecho sentido          tipo_de_acidente automovel  bicicleta  ...  \\\n",
       "0  BR-393/RJ   Norte                Derrapagem         1        0.0  ...   \n",
       "1  BR-393/RJ     Sul                Derrapagem         0        0.0  ...   \n",
       "2  BR-393/RJ   Norte  Abalroamento transversal         1        0.0  ...   \n",
       "3  BR-393/RJ     Sul          Colisão traseira         1        0.0  ...   \n",
       "4  BR-393/RJ   Norte          Colisão traseira         0        0.0  ...   \n",
       "\n",
       "  utilitarios ilesos  levemente_feridos  moderadamente_feridos  \\\n",
       "0           0      1                0.0                    0.0   \n",
       "1           0      0                2.0                    1.0   \n",
       "2           0      2                0.0                    0.0   \n",
       "3           1      2                0.0                    0.0   \n",
       "4           0      0                2.0                    0.0   \n",
       "\n",
       "   gravemente_feridos mortos  rodovia  uf   ano  mes  \n",
       "0                 0.0    0.0   BR-393  RJ  2019    1  \n",
       "1                 0.0    0.0   BR-393  RJ  2019    1  \n",
       "2                 0.0    0.0   BR-393  RJ  2019    2  \n",
       "3                 0.0    0.0   BR-393  RJ  2019    4  \n",
       "4                 0.0    0.0   BR-393  RJ  2019    4  \n",
       "\n",
       "[5 rows x 27 columns]"
      ]
     },
     "execution_count": 324,
     "metadata": {},
     "output_type": "execute_result"
    }
   ],
   "source": [
    "#br_116= br_116[br_116['ano_do_pnv_snv']== 2017]\n",
    "\n",
    "#br_116.head(100)\n",
    "acidentes_nao_fatais[acidentes_nao_fatais['ano']== '2017']\n",
    "\n",
    "acidentes_nao_fatais['ano'].unique()\n",
    "\n",
    "df_acidentes.head()\n",
    "\n"
   ]
  },
  {
   "cell_type": "code",
   "execution_count": null,
   "metadata": {},
   "outputs": [],
   "source": []
  },
  {
   "cell_type": "markdown",
   "metadata": {},
   "source": [
    "### Criação, treinamento, aplicação e avaliação de modelos Machine Learning"
   ]
  },
  {
   "cell_type": "markdown",
   "metadata": {},
   "source": [
    "### Interpretação dos Resultados"
   ]
  },
  {
   "cell_type": "markdown",
   "metadata": {},
   "source": [
    "### Apresentacao dos Resultados"
   ]
  }
 ],
 "metadata": {
  "kernelspec": {
   "display_name": "Python 3",
   "language": "python",
   "name": "python3"
  },
  "language_info": {
   "codemirror_mode": {
    "name": "ipython",
    "version": 3
   },
   "file_extension": ".py",
   "mimetype": "text/x-python",
   "name": "python",
   "nbconvert_exporter": "python",
   "pygments_lexer": "ipython3",
   "version": "3.7.7"
  }
 },
 "nbformat": 4,
 "nbformat_minor": 4
}
